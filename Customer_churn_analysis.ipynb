{
  "cells": [
    {
      "cell_type": "code",
      "execution_count": 1,
      "metadata": {
        "id": "mxdkYRHBrfEl"
      },
      "outputs": [],
      "source": [
        "import pandas as pd\n",
        "import numpy as np\n",
        "import matplotlib.pyplot as plt\n",
        "import tensorflow as tf\n",
        "from sklearn.model_selection import train_test_split\n",
        "from sklearn.preprocessing import StandardScaler, LabelEncoder, OneHotEncoder\n",
        "from sklearn.compose import ColumnTransformer\n",
        "from imblearn.over_sampling import SMOTE\n",
        "\n",
        "# Set random seed for TensorFlow\n",
        "tf.random.set_seed(42)\n",
        "np.random.seed(42)\n"
      ]
    },
    {
      "cell_type": "code",
      "execution_count": 2,
      "metadata": {
        "colab": {
          "base_uri": "https://localhost:8080/",
          "height": 444
        },
        "id": "8PzStgbZr9zi",
        "outputId": "78a083ff-a3c2-4645-97ae-f6b330acc661"
      },
      "outputs": [
        {
          "data": {
            "text/html": [
              "<div>\n",
              "<style scoped>\n",
              "    .dataframe tbody tr th:only-of-type {\n",
              "        vertical-align: middle;\n",
              "    }\n",
              "\n",
              "    .dataframe tbody tr th {\n",
              "        vertical-align: top;\n",
              "    }\n",
              "\n",
              "    .dataframe thead th {\n",
              "        text-align: right;\n",
              "    }\n",
              "</style>\n",
              "<table border=\"1\" class=\"dataframe\">\n",
              "  <thead>\n",
              "    <tr style=\"text-align: right;\">\n",
              "      <th></th>\n",
              "      <th>RowNumber</th>\n",
              "      <th>CustomerId</th>\n",
              "      <th>Surname</th>\n",
              "      <th>CreditScore</th>\n",
              "      <th>Geography</th>\n",
              "      <th>Gender</th>\n",
              "      <th>Age</th>\n",
              "      <th>Tenure</th>\n",
              "      <th>Balance</th>\n",
              "      <th>NumOfProducts</th>\n",
              "      <th>HasCrCard</th>\n",
              "      <th>IsActiveMember</th>\n",
              "      <th>EstimatedSalary</th>\n",
              "      <th>Exited</th>\n",
              "    </tr>\n",
              "  </thead>\n",
              "  <tbody>\n",
              "    <tr>\n",
              "      <th>0</th>\n",
              "      <td>1</td>\n",
              "      <td>15634602</td>\n",
              "      <td>Hargrave</td>\n",
              "      <td>619</td>\n",
              "      <td>France</td>\n",
              "      <td>Female</td>\n",
              "      <td>42</td>\n",
              "      <td>2</td>\n",
              "      <td>0.00</td>\n",
              "      <td>1</td>\n",
              "      <td>1</td>\n",
              "      <td>1</td>\n",
              "      <td>101348.88</td>\n",
              "      <td>1</td>\n",
              "    </tr>\n",
              "    <tr>\n",
              "      <th>1</th>\n",
              "      <td>2</td>\n",
              "      <td>15647311</td>\n",
              "      <td>Hill</td>\n",
              "      <td>608</td>\n",
              "      <td>Spain</td>\n",
              "      <td>Female</td>\n",
              "      <td>41</td>\n",
              "      <td>1</td>\n",
              "      <td>83807.86</td>\n",
              "      <td>1</td>\n",
              "      <td>0</td>\n",
              "      <td>1</td>\n",
              "      <td>112542.58</td>\n",
              "      <td>0</td>\n",
              "    </tr>\n",
              "    <tr>\n",
              "      <th>2</th>\n",
              "      <td>3</td>\n",
              "      <td>15619304</td>\n",
              "      <td>Onio</td>\n",
              "      <td>502</td>\n",
              "      <td>France</td>\n",
              "      <td>Female</td>\n",
              "      <td>42</td>\n",
              "      <td>8</td>\n",
              "      <td>159660.80</td>\n",
              "      <td>3</td>\n",
              "      <td>1</td>\n",
              "      <td>0</td>\n",
              "      <td>113931.57</td>\n",
              "      <td>1</td>\n",
              "    </tr>\n",
              "    <tr>\n",
              "      <th>3</th>\n",
              "      <td>4</td>\n",
              "      <td>15701354</td>\n",
              "      <td>Boni</td>\n",
              "      <td>699</td>\n",
              "      <td>France</td>\n",
              "      <td>Female</td>\n",
              "      <td>39</td>\n",
              "      <td>1</td>\n",
              "      <td>0.00</td>\n",
              "      <td>2</td>\n",
              "      <td>0</td>\n",
              "      <td>0</td>\n",
              "      <td>93826.63</td>\n",
              "      <td>0</td>\n",
              "    </tr>\n",
              "    <tr>\n",
              "      <th>4</th>\n",
              "      <td>5</td>\n",
              "      <td>15737888</td>\n",
              "      <td>Mitchell</td>\n",
              "      <td>850</td>\n",
              "      <td>Spain</td>\n",
              "      <td>Female</td>\n",
              "      <td>43</td>\n",
              "      <td>2</td>\n",
              "      <td>125510.82</td>\n",
              "      <td>1</td>\n",
              "      <td>1</td>\n",
              "      <td>1</td>\n",
              "      <td>79084.10</td>\n",
              "      <td>0</td>\n",
              "    </tr>\n",
              "    <tr>\n",
              "      <th>...</th>\n",
              "      <td>...</td>\n",
              "      <td>...</td>\n",
              "      <td>...</td>\n",
              "      <td>...</td>\n",
              "      <td>...</td>\n",
              "      <td>...</td>\n",
              "      <td>...</td>\n",
              "      <td>...</td>\n",
              "      <td>...</td>\n",
              "      <td>...</td>\n",
              "      <td>...</td>\n",
              "      <td>...</td>\n",
              "      <td>...</td>\n",
              "      <td>...</td>\n",
              "    </tr>\n",
              "    <tr>\n",
              "      <th>9995</th>\n",
              "      <td>9996</td>\n",
              "      <td>15606229</td>\n",
              "      <td>Obijiaku</td>\n",
              "      <td>771</td>\n",
              "      <td>France</td>\n",
              "      <td>Male</td>\n",
              "      <td>39</td>\n",
              "      <td>5</td>\n",
              "      <td>0.00</td>\n",
              "      <td>2</td>\n",
              "      <td>1</td>\n",
              "      <td>0</td>\n",
              "      <td>96270.64</td>\n",
              "      <td>0</td>\n",
              "    </tr>\n",
              "    <tr>\n",
              "      <th>9996</th>\n",
              "      <td>9997</td>\n",
              "      <td>15569892</td>\n",
              "      <td>Johnstone</td>\n",
              "      <td>516</td>\n",
              "      <td>France</td>\n",
              "      <td>Male</td>\n",
              "      <td>35</td>\n",
              "      <td>10</td>\n",
              "      <td>57369.61</td>\n",
              "      <td>1</td>\n",
              "      <td>1</td>\n",
              "      <td>1</td>\n",
              "      <td>101699.77</td>\n",
              "      <td>0</td>\n",
              "    </tr>\n",
              "    <tr>\n",
              "      <th>9997</th>\n",
              "      <td>9998</td>\n",
              "      <td>15584532</td>\n",
              "      <td>Liu</td>\n",
              "      <td>709</td>\n",
              "      <td>France</td>\n",
              "      <td>Female</td>\n",
              "      <td>36</td>\n",
              "      <td>7</td>\n",
              "      <td>0.00</td>\n",
              "      <td>1</td>\n",
              "      <td>0</td>\n",
              "      <td>1</td>\n",
              "      <td>42085.58</td>\n",
              "      <td>1</td>\n",
              "    </tr>\n",
              "    <tr>\n",
              "      <th>9998</th>\n",
              "      <td>9999</td>\n",
              "      <td>15682355</td>\n",
              "      <td>Sabbatini</td>\n",
              "      <td>772</td>\n",
              "      <td>Germany</td>\n",
              "      <td>Male</td>\n",
              "      <td>42</td>\n",
              "      <td>3</td>\n",
              "      <td>75075.31</td>\n",
              "      <td>2</td>\n",
              "      <td>1</td>\n",
              "      <td>0</td>\n",
              "      <td>92888.52</td>\n",
              "      <td>1</td>\n",
              "    </tr>\n",
              "    <tr>\n",
              "      <th>9999</th>\n",
              "      <td>10000</td>\n",
              "      <td>15628319</td>\n",
              "      <td>Walker</td>\n",
              "      <td>792</td>\n",
              "      <td>France</td>\n",
              "      <td>Female</td>\n",
              "      <td>28</td>\n",
              "      <td>4</td>\n",
              "      <td>130142.79</td>\n",
              "      <td>1</td>\n",
              "      <td>1</td>\n",
              "      <td>0</td>\n",
              "      <td>38190.78</td>\n",
              "      <td>0</td>\n",
              "    </tr>\n",
              "  </tbody>\n",
              "</table>\n",
              "<p>10000 rows × 14 columns</p>\n",
              "</div>"
            ],
            "text/plain": [
              "      RowNumber  CustomerId    Surname  CreditScore Geography  Gender  Age  \\\n",
              "0             1    15634602   Hargrave          619    France  Female   42   \n",
              "1             2    15647311       Hill          608     Spain  Female   41   \n",
              "2             3    15619304       Onio          502    France  Female   42   \n",
              "3             4    15701354       Boni          699    France  Female   39   \n",
              "4             5    15737888   Mitchell          850     Spain  Female   43   \n",
              "...         ...         ...        ...          ...       ...     ...  ...   \n",
              "9995       9996    15606229   Obijiaku          771    France    Male   39   \n",
              "9996       9997    15569892  Johnstone          516    France    Male   35   \n",
              "9997       9998    15584532        Liu          709    France  Female   36   \n",
              "9998       9999    15682355  Sabbatini          772   Germany    Male   42   \n",
              "9999      10000    15628319     Walker          792    France  Female   28   \n",
              "\n",
              "      Tenure    Balance  NumOfProducts  HasCrCard  IsActiveMember  \\\n",
              "0          2       0.00              1          1               1   \n",
              "1          1   83807.86              1          0               1   \n",
              "2          8  159660.80              3          1               0   \n",
              "3          1       0.00              2          0               0   \n",
              "4          2  125510.82              1          1               1   \n",
              "...      ...        ...            ...        ...             ...   \n",
              "9995       5       0.00              2          1               0   \n",
              "9996      10   57369.61              1          1               1   \n",
              "9997       7       0.00              1          0               1   \n",
              "9998       3   75075.31              2          1               0   \n",
              "9999       4  130142.79              1          1               0   \n",
              "\n",
              "      EstimatedSalary  Exited  \n",
              "0           101348.88       1  \n",
              "1           112542.58       0  \n",
              "2           113931.57       1  \n",
              "3            93826.63       0  \n",
              "4            79084.10       0  \n",
              "...               ...     ...  \n",
              "9995         96270.64       0  \n",
              "9996        101699.77       0  \n",
              "9997         42085.58       1  \n",
              "9998         92888.52       1  \n",
              "9999         38190.78       0  \n",
              "\n",
              "[10000 rows x 14 columns]"
            ]
          },
          "execution_count": 2,
          "metadata": {},
          "output_type": "execute_result"
        }
      ],
      "source": [
        "# Read the data\n",
        "\n",
        "data = pd.read_csv('Churn_Modelling.csv')\n",
        "data"
      ]
    },
    {
      "cell_type": "code",
      "execution_count": 3,
      "metadata": {
        "colab": {
          "base_uri": "https://localhost:8080/"
        },
        "id": "WYGA20CCwSl6",
        "outputId": "677f863e-d7b9-4785-8d55-b6539420a6f8"
      },
      "outputs": [
        {
          "name": "stdout",
          "output_type": "stream",
          "text": [
            "<class 'pandas.core.frame.DataFrame'>\n",
            "RangeIndex: 10000 entries, 0 to 9999\n",
            "Data columns (total 14 columns):\n",
            " #   Column           Non-Null Count  Dtype  \n",
            "---  ------           --------------  -----  \n",
            " 0   RowNumber        10000 non-null  int64  \n",
            " 1   CustomerId       10000 non-null  int64  \n",
            " 2   Surname          10000 non-null  object \n",
            " 3   CreditScore      10000 non-null  int64  \n",
            " 4   Geography        10000 non-null  object \n",
            " 5   Gender           10000 non-null  object \n",
            " 6   Age              10000 non-null  int64  \n",
            " 7   Tenure           10000 non-null  int64  \n",
            " 8   Balance          10000 non-null  float64\n",
            " 9   NumOfProducts    10000 non-null  int64  \n",
            " 10  HasCrCard        10000 non-null  int64  \n",
            " 11  IsActiveMember   10000 non-null  int64  \n",
            " 12  EstimatedSalary  10000 non-null  float64\n",
            " 13  Exited           10000 non-null  int64  \n",
            "dtypes: float64(2), int64(9), object(3)\n",
            "memory usage: 1.1+ MB\n"
          ]
        }
      ],
      "source": [
        "data.info()"
      ]
    },
    {
      "cell_type": "code",
      "execution_count": 4,
      "metadata": {
        "colab": {
          "base_uri": "https://localhost:8080/"
        },
        "id": "qNIu7WSJxFfO",
        "outputId": "a0170c00-5a69-4830-b3e9-5eb9019567a2"
      },
      "outputs": [
        {
          "name": "stdout",
          "output_type": "stream",
          "text": [
            "<class 'pandas.core.frame.DataFrame'>\n",
            "RangeIndex: 10000 entries, 0 to 9999\n",
            "Data columns (total 14 columns):\n",
            " #   Column           Non-Null Count  Dtype  \n",
            "---  ------           --------------  -----  \n",
            " 0   RowNumber        10000 non-null  float32\n",
            " 1   CustomerId       10000 non-null  float32\n",
            " 2   Surname          10000 non-null  object \n",
            " 3   CreditScore      10000 non-null  float32\n",
            " 4   Geography        10000 non-null  object \n",
            " 5   Gender           10000 non-null  object \n",
            " 6   Age              10000 non-null  float32\n",
            " 7   Tenure           10000 non-null  float32\n",
            " 8   Balance          10000 non-null  float32\n",
            " 9   NumOfProducts    10000 non-null  float32\n",
            " 10  HasCrCard        10000 non-null  float32\n",
            " 11  IsActiveMember   10000 non-null  float32\n",
            " 12  EstimatedSalary  10000 non-null  float32\n",
            " 13  Exited           10000 non-null  float32\n",
            "dtypes: float32(11), object(3)\n",
            "memory usage: 664.2+ KB\n"
          ]
        }
      ],
      "source": [
        "# Improve the model compuation by converting the data type of the columns to float32\n",
        "\n",
        "# Select only numeric columns\n",
        "numeric_cols = data.select_dtypes(include='number').columns\n",
        "\n",
        "# Convert numeric columns int64, float64 to float32\n",
        "data[numeric_cols] = data[numeric_cols].astype('float32')\n",
        "data.info()"
      ]
    },
    {
      "cell_type": "markdown",
      "metadata": {},
      "source": [
        "## Data Profiling"
      ]
    },
    {
      "cell_type": "code",
      "execution_count": 5,
      "metadata": {
        "colab": {
          "base_uri": "https://localhost:8080/",
          "height": 320
        },
        "id": "ApFKzbh1wOd3",
        "outputId": "365624e6-5bc5-4e73-9022-e49429d70de8"
      },
      "outputs": [
        {
          "data": {
            "text/html": [
              "<div>\n",
              "<style scoped>\n",
              "    .dataframe tbody tr th:only-of-type {\n",
              "        vertical-align: middle;\n",
              "    }\n",
              "\n",
              "    .dataframe tbody tr th {\n",
              "        vertical-align: top;\n",
              "    }\n",
              "\n",
              "    .dataframe thead th {\n",
              "        text-align: right;\n",
              "    }\n",
              "</style>\n",
              "<table border=\"1\" class=\"dataframe\">\n",
              "  <thead>\n",
              "    <tr style=\"text-align: right;\">\n",
              "      <th></th>\n",
              "      <th>RowNumber</th>\n",
              "      <th>CustomerId</th>\n",
              "      <th>CreditScore</th>\n",
              "      <th>Age</th>\n",
              "      <th>Tenure</th>\n",
              "      <th>Balance</th>\n",
              "      <th>NumOfProducts</th>\n",
              "      <th>HasCrCard</th>\n",
              "      <th>IsActiveMember</th>\n",
              "      <th>EstimatedSalary</th>\n",
              "      <th>Exited</th>\n",
              "    </tr>\n",
              "  </thead>\n",
              "  <tbody>\n",
              "    <tr>\n",
              "      <th>count</th>\n",
              "      <td>10000.000000</td>\n",
              "      <td>1.000000e+04</td>\n",
              "      <td>10000.000000</td>\n",
              "      <td>10000.000000</td>\n",
              "      <td>10000.000000</td>\n",
              "      <td>10000.000000</td>\n",
              "      <td>10000.000000</td>\n",
              "      <td>10000.00000</td>\n",
              "      <td>10000.000000</td>\n",
              "      <td>10000.000000</td>\n",
              "      <td>10000.000000</td>\n",
              "    </tr>\n",
              "    <tr>\n",
              "      <th>mean</th>\n",
              "      <td>5000.500000</td>\n",
              "      <td>1.569094e+07</td>\n",
              "      <td>650.528809</td>\n",
              "      <td>38.921799</td>\n",
              "      <td>5.012800</td>\n",
              "      <td>76485.890625</td>\n",
              "      <td>1.530200</td>\n",
              "      <td>0.70550</td>\n",
              "      <td>0.515100</td>\n",
              "      <td>100090.234375</td>\n",
              "      <td>0.203700</td>\n",
              "    </tr>\n",
              "    <tr>\n",
              "      <th>std</th>\n",
              "      <td>2886.895752</td>\n",
              "      <td>7.193619e+04</td>\n",
              "      <td>96.653297</td>\n",
              "      <td>10.487806</td>\n",
              "      <td>2.892174</td>\n",
              "      <td>62397.406250</td>\n",
              "      <td>0.581654</td>\n",
              "      <td>0.45584</td>\n",
              "      <td>0.499797</td>\n",
              "      <td>57510.492188</td>\n",
              "      <td>0.402769</td>\n",
              "    </tr>\n",
              "    <tr>\n",
              "      <th>min</th>\n",
              "      <td>1.000000</td>\n",
              "      <td>1.556570e+07</td>\n",
              "      <td>350.000000</td>\n",
              "      <td>18.000000</td>\n",
              "      <td>0.000000</td>\n",
              "      <td>0.000000</td>\n",
              "      <td>1.000000</td>\n",
              "      <td>0.00000</td>\n",
              "      <td>0.000000</td>\n",
              "      <td>11.580000</td>\n",
              "      <td>0.000000</td>\n",
              "    </tr>\n",
              "    <tr>\n",
              "      <th>25%</th>\n",
              "      <td>2500.750000</td>\n",
              "      <td>1.562853e+07</td>\n",
              "      <td>584.000000</td>\n",
              "      <td>32.000000</td>\n",
              "      <td>3.000000</td>\n",
              "      <td>0.000000</td>\n",
              "      <td>1.000000</td>\n",
              "      <td>0.00000</td>\n",
              "      <td>0.000000</td>\n",
              "      <td>51002.109375</td>\n",
              "      <td>0.000000</td>\n",
              "    </tr>\n",
              "    <tr>\n",
              "      <th>50%</th>\n",
              "      <td>5000.500000</td>\n",
              "      <td>1.569074e+07</td>\n",
              "      <td>652.000000</td>\n",
              "      <td>37.000000</td>\n",
              "      <td>5.000000</td>\n",
              "      <td>97198.539062</td>\n",
              "      <td>1.000000</td>\n",
              "      <td>1.00000</td>\n",
              "      <td>1.000000</td>\n",
              "      <td>100193.914062</td>\n",
              "      <td>0.000000</td>\n",
              "    </tr>\n",
              "    <tr>\n",
              "      <th>75%</th>\n",
              "      <td>7500.250000</td>\n",
              "      <td>1.575323e+07</td>\n",
              "      <td>718.000000</td>\n",
              "      <td>44.000000</td>\n",
              "      <td>7.000000</td>\n",
              "      <td>127644.238281</td>\n",
              "      <td>2.000000</td>\n",
              "      <td>1.00000</td>\n",
              "      <td>1.000000</td>\n",
              "      <td>149388.253906</td>\n",
              "      <td>0.000000</td>\n",
              "    </tr>\n",
              "    <tr>\n",
              "      <th>max</th>\n",
              "      <td>10000.000000</td>\n",
              "      <td>1.581569e+07</td>\n",
              "      <td>850.000000</td>\n",
              "      <td>92.000000</td>\n",
              "      <td>10.000000</td>\n",
              "      <td>250898.093750</td>\n",
              "      <td>4.000000</td>\n",
              "      <td>1.00000</td>\n",
              "      <td>1.000000</td>\n",
              "      <td>199992.484375</td>\n",
              "      <td>1.000000</td>\n",
              "    </tr>\n",
              "  </tbody>\n",
              "</table>\n",
              "</div>"
            ],
            "text/plain": [
              "          RowNumber    CustomerId   CreditScore           Age        Tenure  \\\n",
              "count  10000.000000  1.000000e+04  10000.000000  10000.000000  10000.000000   \n",
              "mean    5000.500000  1.569094e+07    650.528809     38.921799      5.012800   \n",
              "std     2886.895752  7.193619e+04     96.653297     10.487806      2.892174   \n",
              "min        1.000000  1.556570e+07    350.000000     18.000000      0.000000   \n",
              "25%     2500.750000  1.562853e+07    584.000000     32.000000      3.000000   \n",
              "50%     5000.500000  1.569074e+07    652.000000     37.000000      5.000000   \n",
              "75%     7500.250000  1.575323e+07    718.000000     44.000000      7.000000   \n",
              "max    10000.000000  1.581569e+07    850.000000     92.000000     10.000000   \n",
              "\n",
              "             Balance  NumOfProducts    HasCrCard  IsActiveMember  \\\n",
              "count   10000.000000   10000.000000  10000.00000    10000.000000   \n",
              "mean    76485.890625       1.530200      0.70550        0.515100   \n",
              "std     62397.406250       0.581654      0.45584        0.499797   \n",
              "min         0.000000       1.000000      0.00000        0.000000   \n",
              "25%         0.000000       1.000000      0.00000        0.000000   \n",
              "50%     97198.539062       1.000000      1.00000        1.000000   \n",
              "75%    127644.238281       2.000000      1.00000        1.000000   \n",
              "max    250898.093750       4.000000      1.00000        1.000000   \n",
              "\n",
              "       EstimatedSalary        Exited  \n",
              "count     10000.000000  10000.000000  \n",
              "mean     100090.234375      0.203700  \n",
              "std       57510.492188      0.402769  \n",
              "min          11.580000      0.000000  \n",
              "25%       51002.109375      0.000000  \n",
              "50%      100193.914062      0.000000  \n",
              "75%      149388.253906      0.000000  \n",
              "max      199992.484375      1.000000  "
            ]
          },
          "execution_count": 5,
          "metadata": {},
          "output_type": "execute_result"
        }
      ],
      "source": [
        "# Statistical Profile of the data (Numerical Columns)\n",
        "\n",
        "data.describe()"
      ]
    },
    {
      "cell_type": "code",
      "execution_count": 6,
      "metadata": {
        "colab": {
          "base_uri": "https://localhost:8080/",
          "height": 175
        },
        "id": "h9uFabUryIlw",
        "outputId": "f0930dc6-fa60-46ab-f1ed-778b86e0956b"
      },
      "outputs": [
        {
          "data": {
            "text/html": [
              "<div>\n",
              "<style scoped>\n",
              "    .dataframe tbody tr th:only-of-type {\n",
              "        vertical-align: middle;\n",
              "    }\n",
              "\n",
              "    .dataframe tbody tr th {\n",
              "        vertical-align: top;\n",
              "    }\n",
              "\n",
              "    .dataframe thead th {\n",
              "        text-align: right;\n",
              "    }\n",
              "</style>\n",
              "<table border=\"1\" class=\"dataframe\">\n",
              "  <thead>\n",
              "    <tr style=\"text-align: right;\">\n",
              "      <th></th>\n",
              "      <th>Surname</th>\n",
              "      <th>Geography</th>\n",
              "      <th>Gender</th>\n",
              "    </tr>\n",
              "  </thead>\n",
              "  <tbody>\n",
              "    <tr>\n",
              "      <th>count</th>\n",
              "      <td>10000</td>\n",
              "      <td>10000</td>\n",
              "      <td>10000</td>\n",
              "    </tr>\n",
              "    <tr>\n",
              "      <th>unique</th>\n",
              "      <td>2932</td>\n",
              "      <td>3</td>\n",
              "      <td>2</td>\n",
              "    </tr>\n",
              "    <tr>\n",
              "      <th>top</th>\n",
              "      <td>Smith</td>\n",
              "      <td>France</td>\n",
              "      <td>Male</td>\n",
              "    </tr>\n",
              "    <tr>\n",
              "      <th>freq</th>\n",
              "      <td>32</td>\n",
              "      <td>5014</td>\n",
              "      <td>5457</td>\n",
              "    </tr>\n",
              "  </tbody>\n",
              "</table>\n",
              "</div>"
            ],
            "text/plain": [
              "       Surname Geography Gender\n",
              "count    10000     10000  10000\n",
              "unique    2932         3      2\n",
              "top      Smith    France   Male\n",
              "freq        32      5014   5457"
            ]
          },
          "execution_count": 6,
          "metadata": {},
          "output_type": "execute_result"
        }
      ],
      "source": [
        "# Statistical Profile of the data (Categorical Columns)\n",
        "\n",
        "data.describe(include=['object'])"
      ]
    },
    {
      "cell_type": "code",
      "execution_count": 7,
      "metadata": {
        "colab": {
          "base_uri": "https://localhost:8080/"
        },
        "id": "PvFoloJGsKQb",
        "outputId": "3bf5519b-677c-4ac6-ec82-ebc3244038fd"
      },
      "outputs": [
        {
          "data": {
            "text/plain": [
              "array([[619.0, 'France', 'Female', ..., 1.0, 1.0, 101348.8828125],\n",
              "       [608.0, 'Spain', 'Female', ..., 0.0, 1.0, 112542.578125],\n",
              "       [502.0, 'France', 'Female', ..., 1.0, 0.0, 113931.5703125],\n",
              "       ...,\n",
              "       [709.0, 'France', 'Female', ..., 0.0, 1.0, 42085.578125],\n",
              "       [772.0, 'Germany', 'Male', ..., 1.0, 0.0, 92888.5234375],\n",
              "       [792.0, 'France', 'Female', ..., 1.0, 0.0, 38190.78125]],\n",
              "      dtype=object)"
            ]
          },
          "execution_count": 7,
          "metadata": {},
          "output_type": "execute_result"
        }
      ],
      "source": [
        "# Slicing Features and Labels\n",
        "\n",
        "X = data.iloc[ : , 3:-1].values\n",
        "X"
      ]
    },
    {
      "cell_type": "code",
      "execution_count": 8,
      "metadata": {
        "colab": {
          "base_uri": "https://localhost:8080/"
        },
        "id": "q4ceIHODsgSq",
        "outputId": "41e3c91b-0b41-4058-adf9-6eec0cc2bc90"
      },
      "outputs": [
        {
          "data": {
            "text/plain": [
              "array([[1.],\n",
              "       [0.],\n",
              "       [1.],\n",
              "       ...,\n",
              "       [1.],\n",
              "       [1.],\n",
              "       [0.]], dtype=float32)"
            ]
          },
          "execution_count": 8,
          "metadata": {},
          "output_type": "execute_result"
        }
      ],
      "source": [
        "# Slicing Target Variable & Reshaping it to column vector\n",
        "\n",
        "y = data.iloc[: , -1].values\n",
        "y = y.reshape(len(y),1)\n",
        "y"
      ]
    },
    {
      "cell_type": "code",
      "execution_count": 9,
      "metadata": {
        "id": "ojexseUKyk8H"
      },
      "outputs": [],
      "source": [
        "# Converting Categorical Data (Gender) to Numeric Data\n",
        "\n",
        "le = LabelEncoder()\n",
        "\n",
        "X[:, 2] = le.fit_transform(X[:, 2])"
      ]
    },
    {
      "cell_type": "code",
      "execution_count": 10,
      "metadata": {
        "colab": {
          "base_uri": "https://localhost:8080/"
        },
        "id": "CqyOqdlf1d8Y",
        "outputId": "aa5b64bc-7962-4650-dcf7-7040bd467aa3"
      },
      "outputs": [
        {
          "data": {
            "text/plain": [
              "array([[1.0, 0.0, 0.0, ..., 1.0, 1.0, 101348.8828125],\n",
              "       [0.0, 0.0, 1.0, ..., 0.0, 1.0, 112542.578125],\n",
              "       [1.0, 0.0, 0.0, ..., 1.0, 0.0, 113931.5703125],\n",
              "       ...,\n",
              "       [1.0, 0.0, 0.0, ..., 0.0, 1.0, 42085.578125],\n",
              "       [0.0, 1.0, 0.0, ..., 1.0, 0.0, 92888.5234375],\n",
              "       [1.0, 0.0, 0.0, ..., 1.0, 0.0, 38190.78125]], dtype=object)"
            ]
          },
          "execution_count": 10,
          "metadata": {},
          "output_type": "execute_result"
        }
      ],
      "source": [
        "# Converting Categorical Data (Geography) to Numeric Data\n",
        "\n",
        "from sklearn.compose import ColumnTransformer\n",
        "\n",
        "transformer = [('enco_country', OneHotEncoder(), [1])]\n",
        "\n",
        "ct = ColumnTransformer(transformers = transformer, remainder = 'passthrough')\n",
        "\n",
        "X_encoded = ct.fit_transform(X)\n",
        "\n",
        "X_encoded"
      ]
    },
    {
      "cell_type": "markdown",
      "metadata": {},
      "source": [
        "## Training the Model"
      ]
    },
    {
      "cell_type": "code",
      "execution_count": 11,
      "metadata": {
        "id": "N8PrsfUp49v0"
      },
      "outputs": [],
      "source": [
        "# Split dataset into Training and Testing\n",
        "\n",
        "X_train0, X_test, y_train0, y_test = train_test_split(X_encoded, y, test_size=0.2, random_state=42)"
      ]
    },
    {
      "cell_type": "code",
      "execution_count": 12,
      "metadata": {
        "id": "xNzEB2zwjnnN"
      },
      "outputs": [],
      "source": [
        "# Apply SMOTE to balance the dataset\n",
        "\n",
        "from imblearn.over_sampling import SMOTE\n",
        "\n",
        "smote = SMOTE(random_state=42)\n",
        "X_resampled, y_resampled = smote.fit_resample(X_train0, y_train0)\n",
        "\n",
        "X_train, X_val, y_train, y_val = train_test_split(X_resampled, y_resampled, test_size=0.25, random_state=42)"
      ]
    },
    {
      "cell_type": "code",
      "execution_count": 13,
      "metadata": {
        "id": "dU5AwBvH5lvh"
      },
      "outputs": [],
      "source": [
        "# Apply Feature Scaling\n",
        "\n",
        "sc = StandardScaler()\n",
        "\n",
        "X_train_scale = sc.fit_transform(X_train)\n",
        "X_val_scale = sc.transform(X_val)\n",
        "X_test_scale = sc.transform(X_test)"
      ]
    },
    {
      "cell_type": "code",
      "execution_count": 14,
      "metadata": {
        "id": "ba6HuT8J6GeB"
      },
      "outputs": [],
      "source": [
        "# Build the Artificial Neural Network\n",
        "\n",
        "ann = tf.keras.models.Sequential()\n",
        "ann.add(tf.keras.layers.Dense(units = 6, activation = 'relu'))\n",
        "ann.add(tf.keras.layers.Dense(units = 6, activation = 'relu'))\n",
        "ann.add(tf.keras.layers.Dense(units = 1, activation = 'sigmoid'))\n",
        "\n",
        "ann.compile(optimizer='adam', loss='binary_crossentropy', metrics=['accuracy'])"
      ]
    },
    {
      "cell_type": "code",
      "execution_count": 15,
      "metadata": {
        "colab": {
          "base_uri": "https://localhost:8080/"
        },
        "id": "_x2NY1ji7J9i",
        "outputId": "63a857c3-0f29-4ab7-a8d8-4f85d2acc962"
      },
      "outputs": [
        {
          "name": "stdout",
          "output_type": "stream",
          "text": [
            "Epoch 1/100\n",
            "191/191 [==============================] - 0s 1ms/step - loss: 0.6943 - accuracy: 0.5292 - val_loss: 0.6743 - val_accuracy: 0.5768\n",
            "Epoch 2/100\n",
            "191/191 [==============================] - 0s 613us/step - loss: 0.6456 - accuracy: 0.6382 - val_loss: 0.6173 - val_accuracy: 0.6740\n",
            "Epoch 3/100\n",
            "191/191 [==============================] - 0s 631us/step - loss: 0.5989 - accuracy: 0.6821 - val_loss: 0.5755 - val_accuracy: 0.7093\n",
            "Epoch 4/100\n",
            "191/191 [==============================] - 0s 610us/step - loss: 0.5770 - accuracy: 0.6992 - val_loss: 0.5561 - val_accuracy: 0.7209\n",
            "Epoch 5/100\n",
            "191/191 [==============================] - 0s 591us/step - loss: 0.5636 - accuracy: 0.7138 - val_loss: 0.5421 - val_accuracy: 0.7306\n",
            "Epoch 6/100\n",
            "191/191 [==============================] - 0s 631us/step - loss: 0.5517 - accuracy: 0.7215 - val_loss: 0.5284 - val_accuracy: 0.7388\n",
            "Epoch 7/100\n",
            "191/191 [==============================] - 0s 610us/step - loss: 0.5382 - accuracy: 0.7299 - val_loss: 0.5136 - val_accuracy: 0.7432\n",
            "Epoch 8/100\n",
            "191/191 [==============================] - 0s 622us/step - loss: 0.5232 - accuracy: 0.7433 - val_loss: 0.4985 - val_accuracy: 0.7590\n",
            "Epoch 9/100\n",
            "191/191 [==============================] - 0s 723us/step - loss: 0.5076 - accuracy: 0.7542 - val_loss: 0.4822 - val_accuracy: 0.7712\n",
            "Epoch 10/100\n",
            "191/191 [==============================] - 0s 591us/step - loss: 0.4920 - accuracy: 0.7663 - val_loss: 0.4680 - val_accuracy: 0.7816\n",
            "Epoch 11/100\n",
            "191/191 [==============================] - 0s 607us/step - loss: 0.4776 - accuracy: 0.7785 - val_loss: 0.4577 - val_accuracy: 0.7904\n",
            "Epoch 12/100\n",
            "191/191 [==============================] - 0s 654us/step - loss: 0.4664 - accuracy: 0.7841 - val_loss: 0.4437 - val_accuracy: 0.7999\n",
            "Epoch 13/100\n",
            "191/191 [==============================] - 0s 620us/step - loss: 0.4560 - accuracy: 0.7900 - val_loss: 0.4339 - val_accuracy: 0.8074\n",
            "Epoch 14/100\n",
            "191/191 [==============================] - 0s 742us/step - loss: 0.4471 - accuracy: 0.7946 - val_loss: 0.4255 - val_accuracy: 0.8115\n",
            "Epoch 15/100\n",
            "191/191 [==============================] - 0s 633us/step - loss: 0.4395 - accuracy: 0.8004 - val_loss: 0.4202 - val_accuracy: 0.8147\n",
            "Epoch 16/100\n",
            "191/191 [==============================] - 0s 699us/step - loss: 0.4327 - accuracy: 0.8048 - val_loss: 0.4120 - val_accuracy: 0.8150\n",
            "Epoch 17/100\n",
            "191/191 [==============================] - 0s 666us/step - loss: 0.4260 - accuracy: 0.8081 - val_loss: 0.4084 - val_accuracy: 0.8169\n",
            "Epoch 18/100\n",
            "191/191 [==============================] - 0s 746us/step - loss: 0.4204 - accuracy: 0.8124 - val_loss: 0.4017 - val_accuracy: 0.8235\n",
            "Epoch 19/100\n",
            "191/191 [==============================] - 0s 650us/step - loss: 0.4150 - accuracy: 0.8186 - val_loss: 0.3967 - val_accuracy: 0.8257\n",
            "Epoch 20/100\n",
            "191/191 [==============================] - 0s 619us/step - loss: 0.4093 - accuracy: 0.8195 - val_loss: 0.3940 - val_accuracy: 0.8276\n",
            "Epoch 21/100\n",
            "191/191 [==============================] - 0s 621us/step - loss: 0.4047 - accuracy: 0.8243 - val_loss: 0.3870 - val_accuracy: 0.8301\n",
            "Epoch 22/100\n",
            "191/191 [==============================] - 0s 606us/step - loss: 0.3991 - accuracy: 0.8248 - val_loss: 0.3820 - val_accuracy: 0.8317\n",
            "Epoch 23/100\n",
            "191/191 [==============================] - 0s 635us/step - loss: 0.3944 - accuracy: 0.8262 - val_loss: 0.3778 - val_accuracy: 0.8304\n",
            "Epoch 24/100\n",
            "191/191 [==============================] - 0s 613us/step - loss: 0.3894 - accuracy: 0.8298 - val_loss: 0.3729 - val_accuracy: 0.8326\n",
            "Epoch 25/100\n",
            "191/191 [==============================] - 0s 630us/step - loss: 0.3851 - accuracy: 0.8325 - val_loss: 0.3688 - val_accuracy: 0.8361\n",
            "Epoch 26/100\n",
            "191/191 [==============================] - 0s 741us/step - loss: 0.3805 - accuracy: 0.8332 - val_loss: 0.3636 - val_accuracy: 0.8367\n",
            "Epoch 27/100\n",
            "191/191 [==============================] - 0s 628us/step - loss: 0.3755 - accuracy: 0.8405 - val_loss: 0.3588 - val_accuracy: 0.8411\n",
            "Epoch 28/100\n",
            "191/191 [==============================] - 0s 592us/step - loss: 0.3713 - accuracy: 0.8385 - val_loss: 0.3545 - val_accuracy: 0.8414\n",
            "Epoch 29/100\n",
            "191/191 [==============================] - 0s 729us/step - loss: 0.3665 - accuracy: 0.8429 - val_loss: 0.3518 - val_accuracy: 0.8424\n",
            "Epoch 30/100\n",
            "191/191 [==============================] - 0s 609us/step - loss: 0.3630 - accuracy: 0.8421 - val_loss: 0.3488 - val_accuracy: 0.8420\n",
            "Epoch 31/100\n",
            "191/191 [==============================] - 0s 696us/step - loss: 0.3608 - accuracy: 0.8435 - val_loss: 0.3484 - val_accuracy: 0.8408\n",
            "Epoch 32/100\n",
            "191/191 [==============================] - 0s 607us/step - loss: 0.3580 - accuracy: 0.8450 - val_loss: 0.3428 - val_accuracy: 0.8458\n",
            "Epoch 33/100\n",
            "191/191 [==============================] - 0s 563us/step - loss: 0.3556 - accuracy: 0.8458 - val_loss: 0.3393 - val_accuracy: 0.8468\n",
            "Epoch 34/100\n",
            "191/191 [==============================] - 0s 620us/step - loss: 0.3536 - accuracy: 0.8494 - val_loss: 0.3385 - val_accuracy: 0.8515\n",
            "Epoch 35/100\n",
            "191/191 [==============================] - 0s 567us/step - loss: 0.3517 - accuracy: 0.8482 - val_loss: 0.3347 - val_accuracy: 0.8493\n",
            "Epoch 36/100\n",
            "191/191 [==============================] - 0s 560us/step - loss: 0.3503 - accuracy: 0.8495 - val_loss: 0.3336 - val_accuracy: 0.8490\n",
            "Epoch 37/100\n",
            "191/191 [==============================] - 0s 570us/step - loss: 0.3480 - accuracy: 0.8501 - val_loss: 0.3331 - val_accuracy: 0.8524\n",
            "Epoch 38/100\n",
            "191/191 [==============================] - 0s 567us/step - loss: 0.3465 - accuracy: 0.8512 - val_loss: 0.3289 - val_accuracy: 0.8549\n",
            "Epoch 39/100\n",
            "191/191 [==============================] - 0s 583us/step - loss: 0.3443 - accuracy: 0.8517 - val_loss: 0.3293 - val_accuracy: 0.8546\n",
            "Epoch 40/100\n",
            "191/191 [==============================] - 0s 608us/step - loss: 0.3421 - accuracy: 0.8555 - val_loss: 0.3263 - val_accuracy: 0.8549\n",
            "Epoch 41/100\n",
            "191/191 [==============================] - 0s 597us/step - loss: 0.3401 - accuracy: 0.8551 - val_loss: 0.3241 - val_accuracy: 0.8578\n",
            "Epoch 42/100\n",
            "191/191 [==============================] - 0s 603us/step - loss: 0.3383 - accuracy: 0.8558 - val_loss: 0.3251 - val_accuracy: 0.8553\n",
            "Epoch 43/100\n",
            "191/191 [==============================] - 0s 603us/step - loss: 0.3366 - accuracy: 0.8554 - val_loss: 0.3234 - val_accuracy: 0.8565\n",
            "Epoch 44/100\n",
            "191/191 [==============================] - 0s 590us/step - loss: 0.3356 - accuracy: 0.8555 - val_loss: 0.3190 - val_accuracy: 0.8606\n",
            "Epoch 45/100\n",
            "191/191 [==============================] - 0s 591us/step - loss: 0.3340 - accuracy: 0.8568 - val_loss: 0.3175 - val_accuracy: 0.8619\n",
            "Epoch 46/100\n",
            "191/191 [==============================] - 0s 598us/step - loss: 0.3326 - accuracy: 0.8560 - val_loss: 0.3179 - val_accuracy: 0.8625\n",
            "Epoch 47/100\n",
            "191/191 [==============================] - 0s 623us/step - loss: 0.3311 - accuracy: 0.8582 - val_loss: 0.3158 - val_accuracy: 0.8584\n",
            "Epoch 48/100\n",
            "191/191 [==============================] - 0s 606us/step - loss: 0.3302 - accuracy: 0.8577 - val_loss: 0.3155 - val_accuracy: 0.8603\n",
            "Epoch 49/100\n",
            "191/191 [==============================] - 0s 818us/step - loss: 0.3287 - accuracy: 0.8559 - val_loss: 0.3145 - val_accuracy: 0.8587\n",
            "Epoch 50/100\n",
            "191/191 [==============================] - 0s 634us/step - loss: 0.3288 - accuracy: 0.8559 - val_loss: 0.3135 - val_accuracy: 0.8597\n",
            "Epoch 51/100\n",
            "191/191 [==============================] - 0s 612us/step - loss: 0.3265 - accuracy: 0.8583 - val_loss: 0.3123 - val_accuracy: 0.8644\n",
            "Epoch 52/100\n",
            "191/191 [==============================] - 0s 599us/step - loss: 0.3257 - accuracy: 0.8577 - val_loss: 0.3130 - val_accuracy: 0.8612\n",
            "Epoch 53/100\n",
            "191/191 [==============================] - 0s 625us/step - loss: 0.3254 - accuracy: 0.8588 - val_loss: 0.3114 - val_accuracy: 0.8606\n",
            "Epoch 54/100\n",
            "191/191 [==============================] - 0s 611us/step - loss: 0.3239 - accuracy: 0.8597 - val_loss: 0.3108 - val_accuracy: 0.8625\n",
            "Epoch 55/100\n",
            "191/191 [==============================] - 0s 610us/step - loss: 0.3231 - accuracy: 0.8576 - val_loss: 0.3106 - val_accuracy: 0.8584\n",
            "Epoch 56/100\n",
            "191/191 [==============================] - 0s 604us/step - loss: 0.3223 - accuracy: 0.8611 - val_loss: 0.3116 - val_accuracy: 0.8612\n",
            "Epoch 57/100\n",
            "191/191 [==============================] - 0s 611us/step - loss: 0.3222 - accuracy: 0.8592 - val_loss: 0.3090 - val_accuracy: 0.8606\n",
            "Epoch 58/100\n",
            "191/191 [==============================] - 0s 608us/step - loss: 0.3210 - accuracy: 0.8617 - val_loss: 0.3070 - val_accuracy: 0.8634\n",
            "Epoch 59/100\n",
            "191/191 [==============================] - 0s 594us/step - loss: 0.3202 - accuracy: 0.8611 - val_loss: 0.3075 - val_accuracy: 0.8615\n",
            "Epoch 60/100\n",
            "191/191 [==============================] - 0s 682us/step - loss: 0.3194 - accuracy: 0.8624 - val_loss: 0.3071 - val_accuracy: 0.8606\n",
            "Epoch 61/100\n",
            "191/191 [==============================] - 0s 594us/step - loss: 0.3187 - accuracy: 0.8604 - val_loss: 0.3086 - val_accuracy: 0.8600\n",
            "Epoch 62/100\n",
            "191/191 [==============================] - 0s 572us/step - loss: 0.3189 - accuracy: 0.8603 - val_loss: 0.3051 - val_accuracy: 0.8656\n",
            "Epoch 63/100\n",
            "191/191 [==============================] - 0s 571us/step - loss: 0.3186 - accuracy: 0.8598 - val_loss: 0.3047 - val_accuracy: 0.8631\n",
            "Epoch 64/100\n",
            "191/191 [==============================] - 0s 579us/step - loss: 0.3179 - accuracy: 0.8608 - val_loss: 0.3040 - val_accuracy: 0.8666\n",
            "Epoch 65/100\n",
            "191/191 [==============================] - 0s 568us/step - loss: 0.3172 - accuracy: 0.8622 - val_loss: 0.3109 - val_accuracy: 0.8587\n",
            "Epoch 66/100\n",
            "191/191 [==============================] - 0s 566us/step - loss: 0.3169 - accuracy: 0.8603 - val_loss: 0.3031 - val_accuracy: 0.8638\n",
            "Epoch 67/100\n",
            "191/191 [==============================] - 0s 563us/step - loss: 0.3162 - accuracy: 0.8608 - val_loss: 0.3029 - val_accuracy: 0.8641\n",
            "Epoch 68/100\n",
            "191/191 [==============================] - 0s 567us/step - loss: 0.3153 - accuracy: 0.8628 - val_loss: 0.3034 - val_accuracy: 0.8660\n",
            "Epoch 69/100\n",
            "191/191 [==============================] - 0s 594us/step - loss: 0.3149 - accuracy: 0.8614 - val_loss: 0.3031 - val_accuracy: 0.8644\n",
            "Epoch 70/100\n",
            "191/191 [==============================] - 0s 596us/step - loss: 0.3155 - accuracy: 0.8612 - val_loss: 0.3040 - val_accuracy: 0.8669\n",
            "Epoch 71/100\n",
            "191/191 [==============================] - 0s 598us/step - loss: 0.3155 - accuracy: 0.8623 - val_loss: 0.3012 - val_accuracy: 0.8641\n",
            "Epoch 72/100\n",
            "191/191 [==============================] - 0s 611us/step - loss: 0.3149 - accuracy: 0.8602 - val_loss: 0.3030 - val_accuracy: 0.8641\n",
            "Epoch 73/100\n",
            "191/191 [==============================] - 0s 711us/step - loss: 0.3141 - accuracy: 0.8613 - val_loss: 0.3019 - val_accuracy: 0.8660\n",
            "Epoch 74/100\n",
            "191/191 [==============================] - 0s 593us/step - loss: 0.3135 - accuracy: 0.8623 - val_loss: 0.3012 - val_accuracy: 0.8669\n",
            "Epoch 75/100\n",
            "191/191 [==============================] - 0s 622us/step - loss: 0.3132 - accuracy: 0.8627 - val_loss: 0.3056 - val_accuracy: 0.8644\n",
            "Epoch 76/100\n",
            "191/191 [==============================] - 0s 1ms/step - loss: 0.3138 - accuracy: 0.8642 - val_loss: 0.3000 - val_accuracy: 0.8660\n",
            "Epoch 77/100\n",
            "191/191 [==============================] - 0s 631us/step - loss: 0.3130 - accuracy: 0.8618 - val_loss: 0.2965 - val_accuracy: 0.8663\n",
            "Epoch 78/100\n",
            "191/191 [==============================] - 0s 623us/step - loss: 0.3123 - accuracy: 0.8636 - val_loss: 0.3004 - val_accuracy: 0.8656\n",
            "Epoch 79/100\n",
            "191/191 [==============================] - 0s 596us/step - loss: 0.3116 - accuracy: 0.8642 - val_loss: 0.2997 - val_accuracy: 0.8675\n",
            "Epoch 80/100\n",
            "191/191 [==============================] - 0s 604us/step - loss: 0.3119 - accuracy: 0.8614 - val_loss: 0.2993 - val_accuracy: 0.8691\n",
            "Epoch 81/100\n",
            "191/191 [==============================] - 0s 598us/step - loss: 0.3122 - accuracy: 0.8623 - val_loss: 0.2991 - val_accuracy: 0.8656\n",
            "Epoch 82/100\n",
            "191/191 [==============================] - 0s 696us/step - loss: 0.3112 - accuracy: 0.8646 - val_loss: 0.3015 - val_accuracy: 0.8638\n",
            "Epoch 83/100\n",
            "191/191 [==============================] - 0s 598us/step - loss: 0.3110 - accuracy: 0.8636 - val_loss: 0.2991 - val_accuracy: 0.8663\n",
            "Epoch 84/100\n",
            "191/191 [==============================] - 0s 598us/step - loss: 0.3108 - accuracy: 0.8649 - val_loss: 0.2956 - val_accuracy: 0.8694\n",
            "Epoch 85/100\n",
            "191/191 [==============================] - 0s 621us/step - loss: 0.3111 - accuracy: 0.8649 - val_loss: 0.2979 - val_accuracy: 0.8653\n",
            "Epoch 86/100\n",
            "191/191 [==============================] - 0s 589us/step - loss: 0.3096 - accuracy: 0.8664 - val_loss: 0.2993 - val_accuracy: 0.8666\n",
            "Epoch 87/100\n",
            "191/191 [==============================] - 0s 569us/step - loss: 0.3106 - accuracy: 0.8640 - val_loss: 0.2973 - val_accuracy: 0.8653\n",
            "Epoch 88/100\n",
            "191/191 [==============================] - 0s 599us/step - loss: 0.3098 - accuracy: 0.8628 - val_loss: 0.2953 - val_accuracy: 0.8678\n",
            "Epoch 89/100\n",
            "191/191 [==============================] - 0s 581us/step - loss: 0.3089 - accuracy: 0.8647 - val_loss: 0.2977 - val_accuracy: 0.8691\n",
            "Epoch 90/100\n",
            "191/191 [==============================] - 0s 569us/step - loss: 0.3095 - accuracy: 0.8632 - val_loss: 0.3016 - val_accuracy: 0.8678\n",
            "Epoch 91/100\n",
            "191/191 [==============================] - 0s 568us/step - loss: 0.3101 - accuracy: 0.8633 - val_loss: 0.2957 - val_accuracy: 0.8688\n",
            "Epoch 92/100\n",
            "191/191 [==============================] - 0s 571us/step - loss: 0.3103 - accuracy: 0.8652 - val_loss: 0.2968 - val_accuracy: 0.8685\n",
            "Epoch 93/100\n",
            "191/191 [==============================] - 0s 574us/step - loss: 0.3084 - accuracy: 0.8667 - val_loss: 0.2955 - val_accuracy: 0.8650\n",
            "Epoch 94/100\n",
            "191/191 [==============================] - 0s 611us/step - loss: 0.3079 - accuracy: 0.8655 - val_loss: 0.2979 - val_accuracy: 0.8663\n",
            "Epoch 95/100\n",
            "191/191 [==============================] - 0s 618us/step - loss: 0.3083 - accuracy: 0.8646 - val_loss: 0.2931 - val_accuracy: 0.8688\n",
            "Epoch 96/100\n",
            "191/191 [==============================] - 0s 674us/step - loss: 0.3086 - accuracy: 0.8641 - val_loss: 0.2951 - val_accuracy: 0.8697\n",
            "Epoch 97/100\n",
            "191/191 [==============================] - 0s 612us/step - loss: 0.3073 - accuracy: 0.8662 - val_loss: 0.2975 - val_accuracy: 0.8694\n",
            "Epoch 98/100\n",
            "191/191 [==============================] - 0s 566us/step - loss: 0.3077 - accuracy: 0.8652 - val_loss: 0.2985 - val_accuracy: 0.8656\n",
            "Epoch 99/100\n",
            "191/191 [==============================] - 0s 564us/step - loss: 0.3076 - accuracy: 0.8633 - val_loss: 0.2927 - val_accuracy: 0.8704\n",
            "Epoch 100/100\n",
            "191/191 [==============================] - 0s 561us/step - loss: 0.3070 - accuracy: 0.8635 - val_loss: 0.2957 - val_accuracy: 0.8663\n"
          ]
        }
      ],
      "source": [
        "# Model Training and Evaluation\n",
        "\n",
        "history = ann.fit(X_train_scale, y_train, batch_size=50, epochs=100, validation_data=(X_val_scale,y_val))"
      ]
    },
    {
      "cell_type": "code",
      "execution_count": 16,
      "metadata": {
        "colab": {
          "base_uri": "https://localhost:8080/",
          "height": 472
        },
        "id": "9kj_okVn8gc8",
        "outputId": "3ac29706-0fc1-4b2c-f56e-d3f289f157e8"
      },
      "outputs": [
        {
          "data": {
            "image/png": "[encoded data removed]",
            "text/plain": [
              "<Figure size 640x480 with 1 Axes>"
            ]
          },
          "metadata": {},
          "output_type": "display_data"
        }
      ],
      "source": [
        "# Plot the training & validation loss values\n",
        "\n",
        "plt.plot(history.history['loss'])\n",
        "plt.plot(history.history['val_loss'])\n",
        "plt.title('Model Loss')\n",
        "plt.xlabel('Epoch')\n",
        "plt.ylabel('Loss')\n",
        "plt.legend(['Train', 'Validation'], loc='upper right')\n",
        "plt.show()\n"
      ]
    },
    {
      "cell_type": "code",
      "execution_count": 17,
      "metadata": {
        "colab": {
          "base_uri": "https://localhost:8080/",
          "height": 472
        },
        "id": "bDHDR26d9jqW",
        "outputId": "dc3e3783-d96f-43a6-c5c6-e09666de4a9e"
      },
      "outputs": [
        {
          "data": {
            "image/png": "[encoded data removed]",
            "text/plain": [
              "<Figure size 640x480 with 1 Axes>"
            ]
          },
          "metadata": {},
          "output_type": "display_data"
        }
      ],
      "source": [
        " # Plot training & validation accuracy values\n",
        "\n",
        "plt.plot(history.history['accuracy'])\n",
        "plt.plot(history.history['val_accuracy'])\n",
        "plt.title('Model Accuracy')\n",
        "plt.xlabel('Epoch')\n",
        "plt.ylabel('Accuracy')\n",
        "plt.legend(['Train', 'Validation'], loc='lower right')\n",
        "plt.show()"
      ]
    },
    {
      "cell_type": "code",
      "execution_count": 18,
      "metadata": {
        "colab": {
          "base_uri": "https://localhost:8080/"
        },
        "id": "IFnptPK3_9Yu",
        "outputId": "c2fc380e-50d1-4a06-d4fd-3dea2efee60e"
      },
      "outputs": [
        {
          "name": "stdout",
          "output_type": "stream",
          "text": [
            "63/63 [==============================] - 0s 501us/step - loss: 0.3623 - accuracy: 0.8540\n",
            "Test Loss: 0.3623056411743164\n",
            "Test Accuracy: 0.8539999723434448\n"
          ]
        }
      ],
      "source": [
        "# Model Evaluation\n",
        "\n",
        "test_loss, test_accuracy = ann.evaluate(X_test_scale, y_test)\n",
        "print(f'Test Loss: {test_loss}')\n",
        "print(f'Test Accuracy: {test_accuracy}')"
      ]
    },
    {
      "cell_type": "code",
      "execution_count": 19,
      "metadata": {
        "colab": {
          "base_uri": "https://localhost:8080/"
        },
        "id": "8C2GCMa8MxWf",
        "outputId": "0a32bfc4-691a-4dbf-b55c-756bf303bcc4"
      },
      "outputs": [
        {
          "name": "stderr",
          "output_type": "stream",
          "text": [
            "/Users/manishrawat/anaconda3/envs/MachineLearning/lib/python3.11/site-packages/keras/src/engine/training.py:3000: UserWarning: You are saving your model as an HDF5 file via `model.save()`. This file format is considered legacy. We recommend using instead the native Keras format, e.g. `model.save('my_model.keras')`.\n",
            "  saving_api.save_model(\n"
          ]
        }
      ],
      "source": [
        "# Save the model\n",
        "\n",
        "ann.save('churn_prediction_model.h5')"
      ]
    },
    {
      "cell_type": "markdown",
      "metadata": {
        "id": "3B2PVmJCDxCU"
      },
      "source": [
        "### Predicting the result of a single observation "
      ]
    },
    {
      "cell_type": "markdown",
      "metadata": {
        "id": "aPV0G9efD3iw"
      },
      "source": [
        "To predict if the customer with the following informations will leave the bank:\n",
        "\n",
        "1. Geography: France\n",
        "2. Credit Score: 600\n",
        "3. Gender: Male\n",
        "4. Age: 40 years old\n",
        "5. Tenure: 3 years\n",
        "6. Balance: \\$ 60000\n",
        "7. Number of Products: 2\n",
        "8. Does have a credit card? Yes\n",
        "9. Active Member: Yes\n",
        "10. Estimated Salary: \\$ 50000\n",
        "\n",
        "So, should we say goodbye to that customer? Yes/No?\n",
        "\n",
        "Note: As we have label encoded the category Geography & Gender\n",
        "1. Geography\n",
        "\n",
        "   a. Spain: 0 0 1\n",
        "\n",
        "   b. Germany: 0 1 0\n",
        "\n",
        "   c. France: 1 0 0\n",
        "\n",
        "2. Gender\n",
        "   \n",
        "   a. Male: 1\n",
        "\n",
        "   b. Female: 0"
      ]
    },
    {
      "cell_type": "code",
      "execution_count": 20,
      "metadata": {
        "colab": {
          "base_uri": "https://localhost:8080/"
        },
        "id": "mxgu2KhSEZj7",
        "outputId": "9f51aa66-13ec-4db2-9cbd-31d2e71135e5"
      },
      "outputs": [
        {
          "name": "stdout",
          "output_type": "stream",
          "text": [
            "1/1 [==============================] - 0s 38ms/step\n",
            "------------------------------------------------------------------\n",
            "Results: Customer will not Churn, this is a Happy Customer!\n",
            "------------------------------------------------------------------\n"
          ]
        }
      ],
      "source": [
        "\n",
        "predictor = ann.predict(sc.transform([[1, 0, 0, 699, 1, 34, 4, 185173.81, 2, 1, 0, 120834.48]]))\n",
        "\n",
        "# predictor = ann.predict(sc.transform([[1, 0, 0, 600, 1, 40, 3, 60000, 2, 1, 1, 50000]]))\n",
        "\n",
        "print('------------------------------------------------------------------')\n",
        "\n",
        "if predictor > 0.5:\n",
        "  print('Results: Customer will Churn!')\n",
        "else: print('Results: Customer will not Churn, this is a Happy Customer!')\n",
        "\n",
        "print('------------------------------------------------------------------')"
      ]
    }
  ],
  "metadata": {
    "colab": {
      "provenance": []
    },
    "kernelspec": {
      "display_name": "Python 3",
      "name": "python3"
    },
    "language_info": {
      "codemirror_mode": {
        "name": "ipython",
        "version": 3
      },
      "file_extension": ".py",
      "mimetype": "text/x-python",
      "name": "python",
      "nbconvert_exporter": "python",
      "pygments_lexer": "ipython3",
      "version": "3.11.4"
    }
  },
  "nbformat": 4,
  "nbformat_minor": 0
}
