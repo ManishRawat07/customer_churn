{
  "cells": [
    {
      "cell_type": "code",
      "execution_count": 21,
      "metadata": {
        "id": "mxdkYRHBrfEl"
      },
      "outputs": [],
      "source": [
        "import pandas as pd\n",
        "import numpy as np\n",
        "import matplotlib.pyplot as plt\n",
        "import tensorflow as tf\n",
        "from sklearn.model_selection import train_test_split\n",
        "from sklearn.preprocessing import StandardScaler, LabelEncoder, OneHotEncoder\n",
        "from sklearn.compose import ColumnTransformer\n",
        "from imblearn.over_sampling import SMOTE\n",
        "\n",
        "# Set random seed for TensorFlow\n",
        "tf.random.set_seed(42)\n",
        "np.random.seed(42)\n"
      ]
    },
    {
      "cell_type": "code",
      "execution_count": 22,
      "metadata": {
        "colab": {
          "base_uri": "https://localhost:8080/",
          "height": 444
        },
        "id": "8PzStgbZr9zi",
        "outputId": "78a083ff-a3c2-4645-97ae-f6b330acc661"
      },
      "outputs": [
        {
          "data": {
            "text/html": [
              "<div>\n",
              "<style scoped>\n",
              "    .dataframe tbody tr th:only-of-type {\n",
              "        vertical-align: middle;\n",
              "    }\n",
              "\n",
              "    .dataframe tbody tr th {\n",
              "        vertical-align: top;\n",
              "    }\n",
              "\n",
              "    .dataframe thead th {\n",
              "        text-align: right;\n",
              "    }\n",
              "</style>\n",
              "<table border=\"1\" class=\"dataframe\">\n",
              "  <thead>\n",
              "    <tr style=\"text-align: right;\">\n",
              "      <th></th>\n",
              "      <th>RowNumber</th>\n",
              "      <th>CustomerId</th>\n",
              "      <th>Surname</th>\n",
              "      <th>CreditScore</th>\n",
              "      <th>Geography</th>\n",
              "      <th>Gender</th>\n",
              "      <th>Age</th>\n",
              "      <th>Tenure</th>\n",
              "      <th>Balance</th>\n",
              "      <th>NumOfProducts</th>\n",
              "      <th>HasCrCard</th>\n",
              "      <th>IsActiveMember</th>\n",
              "      <th>EstimatedSalary</th>\n",
              "      <th>Exited</th>\n",
              "    </tr>\n",
              "  </thead>\n",
              "  <tbody>\n",
              "    <tr>\n",
              "      <th>0</th>\n",
              "      <td>1</td>\n",
              "      <td>15634602</td>\n",
              "      <td>Hargrave</td>\n",
              "      <td>619</td>\n",
              "      <td>France</td>\n",
              "      <td>Female</td>\n",
              "      <td>42</td>\n",
              "      <td>2</td>\n",
              "      <td>0.00</td>\n",
              "      <td>1</td>\n",
              "      <td>1</td>\n",
              "      <td>1</td>\n",
              "      <td>101348.88</td>\n",
              "      <td>1</td>\n",
              "    </tr>\n",
              "    <tr>\n",
              "      <th>1</th>\n",
              "      <td>2</td>\n",
              "      <td>15647311</td>\n",
              "      <td>Hill</td>\n",
              "      <td>608</td>\n",
              "      <td>Spain</td>\n",
              "      <td>Female</td>\n",
              "      <td>41</td>\n",
              "      <td>1</td>\n",
              "      <td>83807.86</td>\n",
              "      <td>1</td>\n",
              "      <td>0</td>\n",
              "      <td>1</td>\n",
              "      <td>112542.58</td>\n",
              "      <td>0</td>\n",
              "    </tr>\n",
              "    <tr>\n",
              "      <th>2</th>\n",
              "      <td>3</td>\n",
              "      <td>15619304</td>\n",
              "      <td>Onio</td>\n",
              "      <td>502</td>\n",
              "      <td>France</td>\n",
              "      <td>Female</td>\n",
              "      <td>42</td>\n",
              "      <td>8</td>\n",
              "      <td>159660.80</td>\n",
              "      <td>3</td>\n",
              "      <td>1</td>\n",
              "      <td>0</td>\n",
              "      <td>113931.57</td>\n",
              "      <td>1</td>\n",
              "    </tr>\n",
              "    <tr>\n",
              "      <th>3</th>\n",
              "      <td>4</td>\n",
              "      <td>15701354</td>\n",
              "      <td>Boni</td>\n",
              "      <td>699</td>\n",
              "      <td>France</td>\n",
              "      <td>Female</td>\n",
              "      <td>39</td>\n",
              "      <td>1</td>\n",
              "      <td>0.00</td>\n",
              "      <td>2</td>\n",
              "      <td>0</td>\n",
              "      <td>0</td>\n",
              "      <td>93826.63</td>\n",
              "      <td>0</td>\n",
              "    </tr>\n",
              "    <tr>\n",
              "      <th>4</th>\n",
              "      <td>5</td>\n",
              "      <td>15737888</td>\n",
              "      <td>Mitchell</td>\n",
              "      <td>850</td>\n",
              "      <td>Spain</td>\n",
              "      <td>Female</td>\n",
              "      <td>43</td>\n",
              "      <td>2</td>\n",
              "      <td>125510.82</td>\n",
              "      <td>1</td>\n",
              "      <td>1</td>\n",
              "      <td>1</td>\n",
              "      <td>79084.10</td>\n",
              "      <td>0</td>\n",
              "    </tr>\n",
              "    <tr>\n",
              "      <th>...</th>\n",
              "      <td>...</td>\n",
              "      <td>...</td>\n",
              "      <td>...</td>\n",
              "      <td>...</td>\n",
              "      <td>...</td>\n",
              "      <td>...</td>\n",
              "      <td>...</td>\n",
              "      <td>...</td>\n",
              "      <td>...</td>\n",
              "      <td>...</td>\n",
              "      <td>...</td>\n",
              "      <td>...</td>\n",
              "      <td>...</td>\n",
              "      <td>...</td>\n",
              "    </tr>\n",
              "    <tr>\n",
              "      <th>9995</th>\n",
              "      <td>9996</td>\n",
              "      <td>15606229</td>\n",
              "      <td>Obijiaku</td>\n",
              "      <td>771</td>\n",
              "      <td>France</td>\n",
              "      <td>Male</td>\n",
              "      <td>39</td>\n",
              "      <td>5</td>\n",
              "      <td>0.00</td>\n",
              "      <td>2</td>\n",
              "      <td>1</td>\n",
              "      <td>0</td>\n",
              "      <td>96270.64</td>\n",
              "      <td>0</td>\n",
              "    </tr>\n",
              "    <tr>\n",
              "      <th>9996</th>\n",
              "      <td>9997</td>\n",
              "      <td>15569892</td>\n",
              "      <td>Johnstone</td>\n",
              "      <td>516</td>\n",
              "      <td>France</td>\n",
              "      <td>Male</td>\n",
              "      <td>35</td>\n",
              "      <td>10</td>\n",
              "      <td>57369.61</td>\n",
              "      <td>1</td>\n",
              "      <td>1</td>\n",
              "      <td>1</td>\n",
              "      <td>101699.77</td>\n",
              "      <td>0</td>\n",
              "    </tr>\n",
              "    <tr>\n",
              "      <th>9997</th>\n",
              "      <td>9998</td>\n",
              "      <td>15584532</td>\n",
              "      <td>Liu</td>\n",
              "      <td>709</td>\n",
              "      <td>France</td>\n",
              "      <td>Female</td>\n",
              "      <td>36</td>\n",
              "      <td>7</td>\n",
              "      <td>0.00</td>\n",
              "      <td>1</td>\n",
              "      <td>0</td>\n",
              "      <td>1</td>\n",
              "      <td>42085.58</td>\n",
              "      <td>1</td>\n",
              "    </tr>\n",
              "    <tr>\n",
              "      <th>9998</th>\n",
              "      <td>9999</td>\n",
              "      <td>15682355</td>\n",
              "      <td>Sabbatini</td>\n",
              "      <td>772</td>\n",
              "      <td>Germany</td>\n",
              "      <td>Male</td>\n",
              "      <td>42</td>\n",
              "      <td>3</td>\n",
              "      <td>75075.31</td>\n",
              "      <td>2</td>\n",
              "      <td>1</td>\n",
              "      <td>0</td>\n",
              "      <td>92888.52</td>\n",
              "      <td>1</td>\n",
              "    </tr>\n",
              "    <tr>\n",
              "      <th>9999</th>\n",
              "      <td>10000</td>\n",
              "      <td>15628319</td>\n",
              "      <td>Walker</td>\n",
              "      <td>792</td>\n",
              "      <td>France</td>\n",
              "      <td>Female</td>\n",
              "      <td>28</td>\n",
              "      <td>4</td>\n",
              "      <td>130142.79</td>\n",
              "      <td>1</td>\n",
              "      <td>1</td>\n",
              "      <td>0</td>\n",
              "      <td>38190.78</td>\n",
              "      <td>0</td>\n",
              "    </tr>\n",
              "  </tbody>\n",
              "</table>\n",
              "<p>10000 rows × 14 columns</p>\n",
              "</div>"
            ],
            "text/plain": [
              "      RowNumber  CustomerId    Surname  CreditScore Geography  Gender  Age  \\\n",
              "0             1    15634602   Hargrave          619    France  Female   42   \n",
              "1             2    15647311       Hill          608     Spain  Female   41   \n",
              "2             3    15619304       Onio          502    France  Female   42   \n",
              "3             4    15701354       Boni          699    France  Female   39   \n",
              "4             5    15737888   Mitchell          850     Spain  Female   43   \n",
              "...         ...         ...        ...          ...       ...     ...  ...   \n",
              "9995       9996    15606229   Obijiaku          771    France    Male   39   \n",
              "9996       9997    15569892  Johnstone          516    France    Male   35   \n",
              "9997       9998    15584532        Liu          709    France  Female   36   \n",
              "9998       9999    15682355  Sabbatini          772   Germany    Male   42   \n",
              "9999      10000    15628319     Walker          792    France  Female   28   \n",
              "\n",
              "      Tenure    Balance  NumOfProducts  HasCrCard  IsActiveMember  \\\n",
              "0          2       0.00              1          1               1   \n",
              "1          1   83807.86              1          0               1   \n",
              "2          8  159660.80              3          1               0   \n",
              "3          1       0.00              2          0               0   \n",
              "4          2  125510.82              1          1               1   \n",
              "...      ...        ...            ...        ...             ...   \n",
              "9995       5       0.00              2          1               0   \n",
              "9996      10   57369.61              1          1               1   \n",
              "9997       7       0.00              1          0               1   \n",
              "9998       3   75075.31              2          1               0   \n",
              "9999       4  130142.79              1          1               0   \n",
              "\n",
              "      EstimatedSalary  Exited  \n",
              "0           101348.88       1  \n",
              "1           112542.58       0  \n",
              "2           113931.57       1  \n",
              "3            93826.63       0  \n",
              "4            79084.10       0  \n",
              "...               ...     ...  \n",
              "9995         96270.64       0  \n",
              "9996        101699.77       0  \n",
              "9997         42085.58       1  \n",
              "9998         92888.52       1  \n",
              "9999         38190.78       0  \n",
              "\n",
              "[10000 rows x 14 columns]"
            ]
          },
          "execution_count": 22,
          "metadata": {},
          "output_type": "execute_result"
        }
      ],
      "source": [
        "# Read the data\n",
        "\n",
        "data = pd.read_csv('Churn_Modelling.csv')\n",
        "data"
      ]
    },
    {
      "cell_type": "code",
      "execution_count": 23,
      "metadata": {
        "colab": {
          "base_uri": "https://localhost:8080/"
        },
        "id": "WYGA20CCwSl6",
        "outputId": "677f863e-d7b9-4785-8d55-b6539420a6f8"
      },
      "outputs": [
        {
          "name": "stdout",
          "output_type": "stream",
          "text": [
            "<class 'pandas.core.frame.DataFrame'>\n",
            "RangeIndex: 10000 entries, 0 to 9999\n",
            "Data columns (total 14 columns):\n",
            " #   Column           Non-Null Count  Dtype  \n",
            "---  ------           --------------  -----  \n",
            " 0   RowNumber        10000 non-null  int64  \n",
            " 1   CustomerId       10000 non-null  int64  \n",
            " 2   Surname          10000 non-null  object \n",
            " 3   CreditScore      10000 non-null  int64  \n",
            " 4   Geography        10000 non-null  object \n",
            " 5   Gender           10000 non-null  object \n",
            " 6   Age              10000 non-null  int64  \n",
            " 7   Tenure           10000 non-null  int64  \n",
            " 8   Balance          10000 non-null  float64\n",
            " 9   NumOfProducts    10000 non-null  int64  \n",
            " 10  HasCrCard        10000 non-null  int64  \n",
            " 11  IsActiveMember   10000 non-null  int64  \n",
            " 12  EstimatedSalary  10000 non-null  float64\n",
            " 13  Exited           10000 non-null  int64  \n",
            "dtypes: float64(2), int64(9), object(3)\n",
            "memory usage: 1.1+ MB\n"
          ]
        }
      ],
      "source": [
        "data.info()"
      ]
    },
    {
      "cell_type": "code",
      "execution_count": 24,
      "metadata": {
        "colab": {
          "base_uri": "https://localhost:8080/"
        },
        "id": "qNIu7WSJxFfO",
        "outputId": "a0170c00-5a69-4830-b3e9-5eb9019567a2"
      },
      "outputs": [
        {
          "name": "stdout",
          "output_type": "stream",
          "text": [
            "<class 'pandas.core.frame.DataFrame'>\n",
            "RangeIndex: 10000 entries, 0 to 9999\n",
            "Data columns (total 14 columns):\n",
            " #   Column           Non-Null Count  Dtype  \n",
            "---  ------           --------------  -----  \n",
            " 0   RowNumber        10000 non-null  float32\n",
            " 1   CustomerId       10000 non-null  float32\n",
            " 2   Surname          10000 non-null  object \n",
            " 3   CreditScore      10000 non-null  float32\n",
            " 4   Geography        10000 non-null  object \n",
            " 5   Gender           10000 non-null  object \n",
            " 6   Age              10000 non-null  float32\n",
            " 7   Tenure           10000 non-null  float32\n",
            " 8   Balance          10000 non-null  float32\n",
            " 9   NumOfProducts    10000 non-null  float32\n",
            " 10  HasCrCard        10000 non-null  float32\n",
            " 11  IsActiveMember   10000 non-null  float32\n",
            " 12  EstimatedSalary  10000 non-null  float32\n",
            " 13  Exited           10000 non-null  float32\n",
            "dtypes: float32(11), object(3)\n",
            "memory usage: 664.2+ KB\n"
          ]
        }
      ],
      "source": [
        "# Improve the model compuation by converting the data type of the columns to float32\n",
        "\n",
        "# Select only numeric columns\n",
        "numeric_cols = data.select_dtypes(include='number').columns\n",
        "\n",
        "# Convert numeric columns int64, float64 to float32\n",
        "data[numeric_cols] = data[numeric_cols].astype('float32')\n",
        "data.info()"
      ]
    },
    {
      "cell_type": "markdown",
      "metadata": {},
      "source": [
        "## Data Profiling"
      ]
    },
    {
      "cell_type": "code",
      "execution_count": 25,
      "metadata": {
        "colab": {
          "base_uri": "https://localhost:8080/",
          "height": 320
        },
        "id": "ApFKzbh1wOd3",
        "outputId": "365624e6-5bc5-4e73-9022-e49429d70de8"
      },
      "outputs": [
        {
          "data": {
            "text/html": [
              "<div>\n",
              "<style scoped>\n",
              "    .dataframe tbody tr th:only-of-type {\n",
              "        vertical-align: middle;\n",
              "    }\n",
              "\n",
              "    .dataframe tbody tr th {\n",
              "        vertical-align: top;\n",
              "    }\n",
              "\n",
              "    .dataframe thead th {\n",
              "        text-align: right;\n",
              "    }\n",
              "</style>\n",
              "<table border=\"1\" class=\"dataframe\">\n",
              "  <thead>\n",
              "    <tr style=\"text-align: right;\">\n",
              "      <th></th>\n",
              "      <th>RowNumber</th>\n",
              "      <th>CustomerId</th>\n",
              "      <th>CreditScore</th>\n",
              "      <th>Age</th>\n",
              "      <th>Tenure</th>\n",
              "      <th>Balance</th>\n",
              "      <th>NumOfProducts</th>\n",
              "      <th>HasCrCard</th>\n",
              "      <th>IsActiveMember</th>\n",
              "      <th>EstimatedSalary</th>\n",
              "      <th>Exited</th>\n",
              "    </tr>\n",
              "  </thead>\n",
              "  <tbody>\n",
              "    <tr>\n",
              "      <th>count</th>\n",
              "      <td>10000.000000</td>\n",
              "      <td>1.000000e+04</td>\n",
              "      <td>10000.000000</td>\n",
              "      <td>10000.000000</td>\n",
              "      <td>10000.000000</td>\n",
              "      <td>10000.000000</td>\n",
              "      <td>10000.000000</td>\n",
              "      <td>10000.00000</td>\n",
              "      <td>10000.000000</td>\n",
              "      <td>10000.000000</td>\n",
              "      <td>10000.000000</td>\n",
              "    </tr>\n",
              "    <tr>\n",
              "      <th>mean</th>\n",
              "      <td>5000.500000</td>\n",
              "      <td>1.569094e+07</td>\n",
              "      <td>650.528809</td>\n",
              "      <td>38.921799</td>\n",
              "      <td>5.012800</td>\n",
              "      <td>76485.890625</td>\n",
              "      <td>1.530200</td>\n",
              "      <td>0.70550</td>\n",
              "      <td>0.515100</td>\n",
              "      <td>100090.234375</td>\n",
              "      <td>0.203700</td>\n",
              "    </tr>\n",
              "    <tr>\n",
              "      <th>std</th>\n",
              "      <td>2886.895752</td>\n",
              "      <td>7.193619e+04</td>\n",
              "      <td>96.653297</td>\n",
              "      <td>10.487806</td>\n",
              "      <td>2.892174</td>\n",
              "      <td>62397.406250</td>\n",
              "      <td>0.581654</td>\n",
              "      <td>0.45584</td>\n",
              "      <td>0.499797</td>\n",
              "      <td>57510.492188</td>\n",
              "      <td>0.402769</td>\n",
              "    </tr>\n",
              "    <tr>\n",
              "      <th>min</th>\n",
              "      <td>1.000000</td>\n",
              "      <td>1.556570e+07</td>\n",
              "      <td>350.000000</td>\n",
              "      <td>18.000000</td>\n",
              "      <td>0.000000</td>\n",
              "      <td>0.000000</td>\n",
              "      <td>1.000000</td>\n",
              "      <td>0.00000</td>\n",
              "      <td>0.000000</td>\n",
              "      <td>11.580000</td>\n",
              "      <td>0.000000</td>\n",
              "    </tr>\n",
              "    <tr>\n",
              "      <th>25%</th>\n",
              "      <td>2500.750000</td>\n",
              "      <td>1.562853e+07</td>\n",
              "      <td>584.000000</td>\n",
              "      <td>32.000000</td>\n",
              "      <td>3.000000</td>\n",
              "      <td>0.000000</td>\n",
              "      <td>1.000000</td>\n",
              "      <td>0.00000</td>\n",
              "      <td>0.000000</td>\n",
              "      <td>51002.109375</td>\n",
              "      <td>0.000000</td>\n",
              "    </tr>\n",
              "    <tr>\n",
              "      <th>50%</th>\n",
              "      <td>5000.500000</td>\n",
              "      <td>1.569074e+07</td>\n",
              "      <td>652.000000</td>\n",
              "      <td>37.000000</td>\n",
              "      <td>5.000000</td>\n",
              "      <td>97198.539062</td>\n",
              "      <td>1.000000</td>\n",
              "      <td>1.00000</td>\n",
              "      <td>1.000000</td>\n",
              "      <td>100193.914062</td>\n",
              "      <td>0.000000</td>\n",
              "    </tr>\n",
              "    <tr>\n",
              "      <th>75%</th>\n",
              "      <td>7500.250000</td>\n",
              "      <td>1.575323e+07</td>\n",
              "      <td>718.000000</td>\n",
              "      <td>44.000000</td>\n",
              "      <td>7.000000</td>\n",
              "      <td>127644.238281</td>\n",
              "      <td>2.000000</td>\n",
              "      <td>1.00000</td>\n",
              "      <td>1.000000</td>\n",
              "      <td>149388.253906</td>\n",
              "      <td>0.000000</td>\n",
              "    </tr>\n",
              "    <tr>\n",
              "      <th>max</th>\n",
              "      <td>10000.000000</td>\n",
              "      <td>1.581569e+07</td>\n",
              "      <td>850.000000</td>\n",
              "      <td>92.000000</td>\n",
              "      <td>10.000000</td>\n",
              "      <td>250898.093750</td>\n",
              "      <td>4.000000</td>\n",
              "      <td>1.00000</td>\n",
              "      <td>1.000000</td>\n",
              "      <td>199992.484375</td>\n",
              "      <td>1.000000</td>\n",
              "    </tr>\n",
              "  </tbody>\n",
              "</table>\n",
              "</div>"
            ],
            "text/plain": [
              "          RowNumber    CustomerId   CreditScore           Age        Tenure  \\\n",
              "count  10000.000000  1.000000e+04  10000.000000  10000.000000  10000.000000   \n",
              "mean    5000.500000  1.569094e+07    650.528809     38.921799      5.012800   \n",
              "std     2886.895752  7.193619e+04     96.653297     10.487806      2.892174   \n",
              "min        1.000000  1.556570e+07    350.000000     18.000000      0.000000   \n",
              "25%     2500.750000  1.562853e+07    584.000000     32.000000      3.000000   \n",
              "50%     5000.500000  1.569074e+07    652.000000     37.000000      5.000000   \n",
              "75%     7500.250000  1.575323e+07    718.000000     44.000000      7.000000   \n",
              "max    10000.000000  1.581569e+07    850.000000     92.000000     10.000000   \n",
              "\n",
              "             Balance  NumOfProducts    HasCrCard  IsActiveMember  \\\n",
              "count   10000.000000   10000.000000  10000.00000    10000.000000   \n",
              "mean    76485.890625       1.530200      0.70550        0.515100   \n",
              "std     62397.406250       0.581654      0.45584        0.499797   \n",
              "min         0.000000       1.000000      0.00000        0.000000   \n",
              "25%         0.000000       1.000000      0.00000        0.000000   \n",
              "50%     97198.539062       1.000000      1.00000        1.000000   \n",
              "75%    127644.238281       2.000000      1.00000        1.000000   \n",
              "max    250898.093750       4.000000      1.00000        1.000000   \n",
              "\n",
              "       EstimatedSalary        Exited  \n",
              "count     10000.000000  10000.000000  \n",
              "mean     100090.234375      0.203700  \n",
              "std       57510.492188      0.402769  \n",
              "min          11.580000      0.000000  \n",
              "25%       51002.109375      0.000000  \n",
              "50%      100193.914062      0.000000  \n",
              "75%      149388.253906      0.000000  \n",
              "max      199992.484375      1.000000  "
            ]
          },
          "execution_count": 25,
          "metadata": {},
          "output_type": "execute_result"
        }
      ],
      "source": [
        "# Statistical Profile of the data (Numerical Columns)\n",
        "\n",
        "data.describe()"
      ]
    },
    {
      "cell_type": "code",
      "execution_count": 26,
      "metadata": {
        "colab": {
          "base_uri": "https://localhost:8080/",
          "height": 175
        },
        "id": "h9uFabUryIlw",
        "outputId": "f0930dc6-fa60-46ab-f1ed-778b86e0956b"
      },
      "outputs": [
        {
          "data": {
            "text/html": [
              "<div>\n",
              "<style scoped>\n",
              "    .dataframe tbody tr th:only-of-type {\n",
              "        vertical-align: middle;\n",
              "    }\n",
              "\n",
              "    .dataframe tbody tr th {\n",
              "        vertical-align: top;\n",
              "    }\n",
              "\n",
              "    .dataframe thead th {\n",
              "        text-align: right;\n",
              "    }\n",
              "</style>\n",
              "<table border=\"1\" class=\"dataframe\">\n",
              "  <thead>\n",
              "    <tr style=\"text-align: right;\">\n",
              "      <th></th>\n",
              "      <th>Surname</th>\n",
              "      <th>Geography</th>\n",
              "      <th>Gender</th>\n",
              "    </tr>\n",
              "  </thead>\n",
              "  <tbody>\n",
              "    <tr>\n",
              "      <th>count</th>\n",
              "      <td>10000</td>\n",
              "      <td>10000</td>\n",
              "      <td>10000</td>\n",
              "    </tr>\n",
              "    <tr>\n",
              "      <th>unique</th>\n",
              "      <td>2932</td>\n",
              "      <td>3</td>\n",
              "      <td>2</td>\n",
              "    </tr>\n",
              "    <tr>\n",
              "      <th>top</th>\n",
              "      <td>Smith</td>\n",
              "      <td>France</td>\n",
              "      <td>Male</td>\n",
              "    </tr>\n",
              "    <tr>\n",
              "      <th>freq</th>\n",
              "      <td>32</td>\n",
              "      <td>5014</td>\n",
              "      <td>5457</td>\n",
              "    </tr>\n",
              "  </tbody>\n",
              "</table>\n",
              "</div>"
            ],
            "text/plain": [
              "       Surname Geography Gender\n",
              "count    10000     10000  10000\n",
              "unique    2932         3      2\n",
              "top      Smith    France   Male\n",
              "freq        32      5014   5457"
            ]
          },
          "execution_count": 26,
          "metadata": {},
          "output_type": "execute_result"
        }
      ],
      "source": [
        "# Statistical Profile of the data (Categorical Columns)\n",
        "\n",
        "data.describe(include=['object'])"
      ]
    },
    {
      "cell_type": "code",
      "execution_count": 27,
      "metadata": {
        "colab": {
          "base_uri": "https://localhost:8080/"
        },
        "id": "PvFoloJGsKQb",
        "outputId": "3bf5519b-677c-4ac6-ec82-ebc3244038fd"
      },
      "outputs": [
        {
          "data": {
            "text/plain": [
              "array([[619.0, 'France', 'Female', ..., 1.0, 1.0, 101348.8828125],\n",
              "       [608.0, 'Spain', 'Female', ..., 0.0, 1.0, 112542.578125],\n",
              "       [502.0, 'France', 'Female', ..., 1.0, 0.0, 113931.5703125],\n",
              "       ...,\n",
              "       [709.0, 'France', 'Female', ..., 0.0, 1.0, 42085.578125],\n",
              "       [772.0, 'Germany', 'Male', ..., 1.0, 0.0, 92888.5234375],\n",
              "       [792.0, 'France', 'Female', ..., 1.0, 0.0, 38190.78125]],\n",
              "      dtype=object)"
            ]
          },
          "execution_count": 27,
          "metadata": {},
          "output_type": "execute_result"
        }
      ],
      "source": [
        "# Slicing Features and Labels\n",
        "\n",
        "X = data.iloc[ : , 3:-1].values\n",
        "X"
      ]
    },
    {
      "cell_type": "code",
      "execution_count": 28,
      "metadata": {
        "colab": {
          "base_uri": "https://localhost:8080/"
        },
        "id": "q4ceIHODsgSq",
        "outputId": "41e3c91b-0b41-4058-adf9-6eec0cc2bc90"
      },
      "outputs": [
        {
          "data": {
            "text/plain": [
              "array([[1.],\n",
              "       [0.],\n",
              "       [1.],\n",
              "       ...,\n",
              "       [1.],\n",
              "       [1.],\n",
              "       [0.]], dtype=float32)"
            ]
          },
          "execution_count": 28,
          "metadata": {},
          "output_type": "execute_result"
        }
      ],
      "source": [
        "# Slicing Target Variable & Reshaping it to column vector\n",
        "\n",
        "y = data.iloc[: , -1].values\n",
        "y = y.reshape(len(y),1)\n",
        "y"
      ]
    },
    {
      "cell_type": "code",
      "execution_count": 29,
      "metadata": {
        "id": "ojexseUKyk8H"
      },
      "outputs": [],
      "source": [
        "# Converting Categorical Data (Gender) to Numeric Data\n",
        "\n",
        "le = LabelEncoder()\n",
        "\n",
        "X[:, 2] = le.fit_transform(X[:, 2])"
      ]
    },
    {
      "cell_type": "code",
      "execution_count": 30,
      "metadata": {
        "colab": {
          "base_uri": "https://localhost:8080/"
        },
        "id": "CqyOqdlf1d8Y",
        "outputId": "aa5b64bc-7962-4650-dcf7-7040bd467aa3"
      },
      "outputs": [
        {
          "data": {
            "text/plain": [
              "array([[1.0, 0.0, 0.0, ..., 1.0, 1.0, 101348.8828125],\n",
              "       [0.0, 0.0, 1.0, ..., 0.0, 1.0, 112542.578125],\n",
              "       [1.0, 0.0, 0.0, ..., 1.0, 0.0, 113931.5703125],\n",
              "       ...,\n",
              "       [1.0, 0.0, 0.0, ..., 0.0, 1.0, 42085.578125],\n",
              "       [0.0, 1.0, 0.0, ..., 1.0, 0.0, 92888.5234375],\n",
              "       [1.0, 0.0, 0.0, ..., 1.0, 0.0, 38190.78125]], dtype=object)"
            ]
          },
          "execution_count": 30,
          "metadata": {},
          "output_type": "execute_result"
        }
      ],
      "source": [
        "# Converting Categorical Data (Geography) to Numeric Data\n",
        "\n",
        "from sklearn.compose import ColumnTransformer\n",
        "\n",
        "transformer = [('enco_country', OneHotEncoder(), [1])]\n",
        "\n",
        "ct = ColumnTransformer(transformers = transformer, remainder = 'passthrough')\n",
        "\n",
        "X_encoded = ct.fit_transform(X)\n",
        "\n",
        "X_encoded"
      ]
    },
    {
      "cell_type": "markdown",
      "metadata": {},
      "source": [
        "## Training the Model"
      ]
    },
    {
      "cell_type": "code",
      "execution_count": 31,
      "metadata": {
        "id": "N8PrsfUp49v0"
      },
      "outputs": [],
      "source": [
        "# Split dataset into Training and Testing\n",
        "\n",
        "X_train0, X_test, y_train0, y_test = train_test_split(X_encoded, y, test_size=0.2, random_state=42)"
      ]
    },
    {
      "cell_type": "code",
      "execution_count": 32,
      "metadata": {
        "id": "xNzEB2zwjnnN"
      },
      "outputs": [],
      "source": [
        "# Apply SMOTE to balance the dataset\n",
        "\n",
        "from imblearn.over_sampling import SMOTE\n",
        "\n",
        "smote = SMOTE(random_state=42)\n",
        "X_resampled, y_resampled = smote.fit_resample(X_train0, y_train0)\n",
        "\n",
        "X_train, X_val, y_train, y_val = train_test_split(X_resampled, y_resampled, test_size=0.25, random_state=42)"
      ]
    },
    {
      "cell_type": "code",
      "execution_count": 33,
      "metadata": {
        "id": "dU5AwBvH5lvh"
      },
      "outputs": [],
      "source": [
        "# Apply Feature Scaling\n",
        "\n",
        "sc = StandardScaler()\n",
        "\n",
        "X_train_scale = sc.fit_transform(X_train)\n",
        "X_val_scale = sc.transform(X_val)\n",
        "X_test_scale = sc.transform(X_test)"
      ]
    },
    {
      "cell_type": "code",
      "execution_count": 34,
      "metadata": {
        "id": "ba6HuT8J6GeB"
      },
      "outputs": [],
      "source": [
        "# Build the Artificial Neural Network\n",
        "\n",
        "ann = tf.keras.models.Sequential()\n",
        "ann.add(tf.keras.layers.Dense(units = 6, activation = 'relu'))\n",
        "ann.add(tf.keras.layers.Dense(units = 6, activation = 'relu'))\n",
        "ann.add(tf.keras.layers.Dense(units = 1, activation = 'sigmoid'))\n",
        "\n",
        "ann.compile(optimizer='adam', loss='binary_crossentropy', metrics=['accuracy'])"
      ]
    },
    {
      "cell_type": "code",
      "execution_count": 35,
      "metadata": {
        "colab": {
          "base_uri": "https://localhost:8080/"
        },
        "id": "_x2NY1ji7J9i",
        "outputId": "63a857c3-0f29-4ab7-a8d8-4f85d2acc962"
      },
      "outputs": [
        {
          "name": "stdout",
          "output_type": "stream",
          "text": [
            "Epoch 1/100\n",
            "191/191 [==============================] - 0s 942us/step - loss: 0.6616 - accuracy: 0.6053 - val_loss: 0.5984 - val_accuracy: 0.6948\n",
            "Epoch 2/100\n",
            "191/191 [==============================] - 0s 574us/step - loss: 0.5921 - accuracy: 0.6905 - val_loss: 0.5605 - val_accuracy: 0.7086\n",
            "Epoch 3/100\n",
            "191/191 [==============================] - 0s 577us/step - loss: 0.5708 - accuracy: 0.7039 - val_loss: 0.5442 - val_accuracy: 0.7259\n",
            "Epoch 4/100\n",
            "191/191 [==============================] - 0s 557us/step - loss: 0.5602 - accuracy: 0.7191 - val_loss: 0.5340 - val_accuracy: 0.7391\n",
            "Epoch 5/100\n",
            "191/191 [==============================] - 0s 572us/step - loss: 0.5528 - accuracy: 0.7261 - val_loss: 0.5266 - val_accuracy: 0.7445\n",
            "Epoch 6/100\n",
            "191/191 [==============================] - 0s 570us/step - loss: 0.5461 - accuracy: 0.7306 - val_loss: 0.5183 - val_accuracy: 0.7517\n",
            "Epoch 7/100\n",
            "191/191 [==============================] - 0s 574us/step - loss: 0.5361 - accuracy: 0.7376 - val_loss: 0.5055 - val_accuracy: 0.7593\n",
            "Epoch 8/100\n",
            "191/191 [==============================] - 0s 568us/step - loss: 0.5231 - accuracy: 0.7437 - val_loss: 0.4919 - val_accuracy: 0.7671\n",
            "Epoch 9/100\n",
            "191/191 [==============================] - 0s 562us/step - loss: 0.5098 - accuracy: 0.7536 - val_loss: 0.4776 - val_accuracy: 0.7744\n",
            "Epoch 10/100\n",
            "191/191 [==============================] - 0s 570us/step - loss: 0.4972 - accuracy: 0.7626 - val_loss: 0.4663 - val_accuracy: 0.7823\n",
            "Epoch 11/100\n",
            "191/191 [==============================] - 0s 572us/step - loss: 0.4859 - accuracy: 0.7686 - val_loss: 0.4595 - val_accuracy: 0.7882\n",
            "Epoch 12/100\n",
            "191/191 [==============================] - 0s 554us/step - loss: 0.4771 - accuracy: 0.7737 - val_loss: 0.4520 - val_accuracy: 0.7911\n",
            "Epoch 13/100\n",
            "191/191 [==============================] - 0s 570us/step - loss: 0.4703 - accuracy: 0.7776 - val_loss: 0.4474 - val_accuracy: 0.7930\n",
            "Epoch 14/100\n",
            "191/191 [==============================] - 0s 573us/step - loss: 0.4655 - accuracy: 0.7788 - val_loss: 0.4447 - val_accuracy: 0.7933\n",
            "Epoch 15/100\n",
            "191/191 [==============================] - 0s 573us/step - loss: 0.4621 - accuracy: 0.7814 - val_loss: 0.4430 - val_accuracy: 0.7961\n",
            "Epoch 16/100\n",
            "191/191 [==============================] - 0s 579us/step - loss: 0.4591 - accuracy: 0.7828 - val_loss: 0.4401 - val_accuracy: 0.7983\n",
            "Epoch 17/100\n",
            "191/191 [==============================] - 0s 572us/step - loss: 0.4562 - accuracy: 0.7877 - val_loss: 0.4392 - val_accuracy: 0.7964\n",
            "Epoch 18/100\n",
            "191/191 [==============================] - 0s 575us/step - loss: 0.4535 - accuracy: 0.7875 - val_loss: 0.4373 - val_accuracy: 0.7977\n",
            "Epoch 19/100\n",
            "191/191 [==============================] - 0s 574us/step - loss: 0.4515 - accuracy: 0.7895 - val_loss: 0.4357 - val_accuracy: 0.7980\n",
            "Epoch 20/100\n",
            "191/191 [==============================] - 0s 569us/step - loss: 0.4493 - accuracy: 0.7897 - val_loss: 0.4353 - val_accuracy: 0.7970\n",
            "Epoch 21/100\n",
            "191/191 [==============================] - 0s 576us/step - loss: 0.4477 - accuracy: 0.7901 - val_loss: 0.4329 - val_accuracy: 0.7970\n",
            "Epoch 22/100\n",
            "191/191 [==============================] - 0s 558us/step - loss: 0.4454 - accuracy: 0.7906 - val_loss: 0.4307 - val_accuracy: 0.8024\n",
            "Epoch 23/100\n",
            "191/191 [==============================] - 0s 569us/step - loss: 0.4438 - accuracy: 0.7921 - val_loss: 0.4297 - val_accuracy: 0.8002\n",
            "Epoch 24/100\n",
            "191/191 [==============================] - 0s 571us/step - loss: 0.4417 - accuracy: 0.7932 - val_loss: 0.4282 - val_accuracy: 0.8014\n",
            "Epoch 25/100\n",
            "191/191 [==============================] - 0s 573us/step - loss: 0.4400 - accuracy: 0.7931 - val_loss: 0.4264 - val_accuracy: 0.8018\n",
            "Epoch 26/100\n",
            "191/191 [==============================] - 0s 568us/step - loss: 0.4383 - accuracy: 0.7946 - val_loss: 0.4244 - val_accuracy: 0.8033\n",
            "Epoch 27/100\n",
            "191/191 [==============================] - 0s 597us/step - loss: 0.4363 - accuracy: 0.7954 - val_loss: 0.4247 - val_accuracy: 0.8062\n",
            "Epoch 28/100\n",
            "191/191 [==============================] - 0s 633us/step - loss: 0.4343 - accuracy: 0.7952 - val_loss: 0.4230 - val_accuracy: 0.8068\n",
            "Epoch 29/100\n",
            "191/191 [==============================] - 0s 627us/step - loss: 0.4322 - accuracy: 0.7980 - val_loss: 0.4224 - val_accuracy: 0.8068\n",
            "Epoch 30/100\n",
            "191/191 [==============================] - 0s 602us/step - loss: 0.4306 - accuracy: 0.7982 - val_loss: 0.4207 - val_accuracy: 0.8065\n",
            "Epoch 31/100\n",
            "191/191 [==============================] - 0s 577us/step - loss: 0.4289 - accuracy: 0.7987 - val_loss: 0.4196 - val_accuracy: 0.8055\n",
            "Epoch 32/100\n",
            "191/191 [==============================] - 0s 571us/step - loss: 0.4270 - accuracy: 0.8006 - val_loss: 0.4170 - val_accuracy: 0.8121\n",
            "Epoch 33/100\n",
            "191/191 [==============================] - 0s 579us/step - loss: 0.4255 - accuracy: 0.8003 - val_loss: 0.4141 - val_accuracy: 0.8087\n",
            "Epoch 34/100\n",
            "191/191 [==============================] - 0s 559us/step - loss: 0.4230 - accuracy: 0.8030 - val_loss: 0.4134 - val_accuracy: 0.8106\n",
            "Epoch 35/100\n",
            "191/191 [==============================] - 0s 572us/step - loss: 0.4209 - accuracy: 0.8035 - val_loss: 0.4104 - val_accuracy: 0.8093\n",
            "Epoch 36/100\n",
            "191/191 [==============================] - 0s 587us/step - loss: 0.4192 - accuracy: 0.8041 - val_loss: 0.4089 - val_accuracy: 0.8099\n",
            "Epoch 37/100\n",
            "191/191 [==============================] - 0s 596us/step - loss: 0.4169 - accuracy: 0.8052 - val_loss: 0.4068 - val_accuracy: 0.8093\n",
            "Epoch 38/100\n",
            "191/191 [==============================] - 0s 597us/step - loss: 0.4152 - accuracy: 0.8070 - val_loss: 0.4048 - val_accuracy: 0.8087\n",
            "Epoch 39/100\n",
            "191/191 [==============================] - 0s 604us/step - loss: 0.4129 - accuracy: 0.8075 - val_loss: 0.4028 - val_accuracy: 0.8112\n",
            "Epoch 40/100\n",
            "191/191 [==============================] - 0s 615us/step - loss: 0.4111 - accuracy: 0.8083 - val_loss: 0.4004 - val_accuracy: 0.8131\n",
            "Epoch 41/100\n",
            "191/191 [==============================] - 0s 572us/step - loss: 0.4092 - accuracy: 0.8109 - val_loss: 0.3988 - val_accuracy: 0.8106\n",
            "Epoch 42/100\n",
            "191/191 [==============================] - 0s 564us/step - loss: 0.4077 - accuracy: 0.8113 - val_loss: 0.3976 - val_accuracy: 0.8118\n",
            "Epoch 43/100\n",
            "191/191 [==============================] - 0s 566us/step - loss: 0.4056 - accuracy: 0.8120 - val_loss: 0.3963 - val_accuracy: 0.8125\n",
            "Epoch 44/100\n",
            "191/191 [==============================] - 0s 564us/step - loss: 0.4040 - accuracy: 0.8112 - val_loss: 0.3943 - val_accuracy: 0.8106\n",
            "Epoch 45/100\n",
            "191/191 [==============================] - 0s 569us/step - loss: 0.4019 - accuracy: 0.8132 - val_loss: 0.3927 - val_accuracy: 0.8175\n",
            "Epoch 46/100\n",
            "191/191 [==============================] - 0s 572us/step - loss: 0.4005 - accuracy: 0.8136 - val_loss: 0.3897 - val_accuracy: 0.8150\n",
            "Epoch 47/100\n",
            "191/191 [==============================] - 0s 675us/step - loss: 0.3992 - accuracy: 0.8138 - val_loss: 0.3888 - val_accuracy: 0.8143\n",
            "Epoch 48/100\n",
            "191/191 [==============================] - 0s 604us/step - loss: 0.3973 - accuracy: 0.8152 - val_loss: 0.3875 - val_accuracy: 0.8140\n",
            "Epoch 49/100\n",
            "191/191 [==============================] - 0s 561us/step - loss: 0.3961 - accuracy: 0.8172 - val_loss: 0.3859 - val_accuracy: 0.8162\n",
            "Epoch 50/100\n",
            "191/191 [==============================] - 0s 576us/step - loss: 0.3948 - accuracy: 0.8167 - val_loss: 0.3852 - val_accuracy: 0.8197\n",
            "Epoch 51/100\n",
            "191/191 [==============================] - 0s 568us/step - loss: 0.3927 - accuracy: 0.8190 - val_loss: 0.3826 - val_accuracy: 0.8166\n",
            "Epoch 52/100\n",
            "191/191 [==============================] - 0s 579us/step - loss: 0.3909 - accuracy: 0.8191 - val_loss: 0.3831 - val_accuracy: 0.8203\n",
            "Epoch 53/100\n",
            "191/191 [==============================] - 0s 567us/step - loss: 0.3900 - accuracy: 0.8183 - val_loss: 0.3810 - val_accuracy: 0.8225\n",
            "Epoch 54/100\n",
            "191/191 [==============================] - 0s 570us/step - loss: 0.3879 - accuracy: 0.8194 - val_loss: 0.3806 - val_accuracy: 0.8206\n",
            "Epoch 55/100\n",
            "191/191 [==============================] - 0s 585us/step - loss: 0.3871 - accuracy: 0.8221 - val_loss: 0.3797 - val_accuracy: 0.8203\n",
            "Epoch 56/100\n",
            "191/191 [==============================] - 0s 591us/step - loss: 0.3858 - accuracy: 0.8199 - val_loss: 0.3794 - val_accuracy: 0.8222\n",
            "Epoch 57/100\n",
            "191/191 [==============================] - 0s 565us/step - loss: 0.3847 - accuracy: 0.8210 - val_loss: 0.3775 - val_accuracy: 0.8219\n",
            "Epoch 58/100\n",
            "191/191 [==============================] - 0s 562us/step - loss: 0.3834 - accuracy: 0.8222 - val_loss: 0.3766 - val_accuracy: 0.8216\n",
            "Epoch 59/100\n",
            "191/191 [==============================] - 0s 560us/step - loss: 0.3835 - accuracy: 0.8219 - val_loss: 0.3744 - val_accuracy: 0.8244\n",
            "Epoch 60/100\n",
            "191/191 [==============================] - 0s 563us/step - loss: 0.3810 - accuracy: 0.8242 - val_loss: 0.3755 - val_accuracy: 0.8216\n",
            "Epoch 61/100\n",
            "191/191 [==============================] - 0s 561us/step - loss: 0.3799 - accuracy: 0.8243 - val_loss: 0.3746 - val_accuracy: 0.8238\n",
            "Epoch 62/100\n",
            "191/191 [==============================] - 0s 560us/step - loss: 0.3795 - accuracy: 0.8221 - val_loss: 0.3711 - val_accuracy: 0.8257\n",
            "Epoch 63/100\n",
            "191/191 [==============================] - 0s 559us/step - loss: 0.3792 - accuracy: 0.8233 - val_loss: 0.3721 - val_accuracy: 0.8247\n",
            "Epoch 64/100\n",
            "191/191 [==============================] - 0s 668us/step - loss: 0.3774 - accuracy: 0.8255 - val_loss: 0.3724 - val_accuracy: 0.8254\n",
            "Epoch 65/100\n",
            "191/191 [==============================] - 0s 561us/step - loss: 0.3774 - accuracy: 0.8257 - val_loss: 0.3714 - val_accuracy: 0.8263\n",
            "Epoch 66/100\n",
            "191/191 [==============================] - 0s 567us/step - loss: 0.3759 - accuracy: 0.8274 - val_loss: 0.3698 - val_accuracy: 0.8257\n",
            "Epoch 67/100\n",
            "191/191 [==============================] - 0s 559us/step - loss: 0.3749 - accuracy: 0.8284 - val_loss: 0.3684 - val_accuracy: 0.8285\n",
            "Epoch 68/100\n",
            "191/191 [==============================] - 0s 557us/step - loss: 0.3737 - accuracy: 0.8277 - val_loss: 0.3683 - val_accuracy: 0.8257\n",
            "Epoch 69/100\n",
            "191/191 [==============================] - 0s 564us/step - loss: 0.3730 - accuracy: 0.8292 - val_loss: 0.3675 - val_accuracy: 0.8295\n",
            "Epoch 70/100\n",
            "191/191 [==============================] - 0s 562us/step - loss: 0.3725 - accuracy: 0.8305 - val_loss: 0.3681 - val_accuracy: 0.8304\n",
            "Epoch 71/100\n",
            "191/191 [==============================] - 0s 561us/step - loss: 0.3720 - accuracy: 0.8291 - val_loss: 0.3650 - val_accuracy: 0.8313\n",
            "Epoch 72/100\n",
            "191/191 [==============================] - 0s 564us/step - loss: 0.3709 - accuracy: 0.8295 - val_loss: 0.3657 - val_accuracy: 0.8285\n",
            "Epoch 73/100\n",
            "191/191 [==============================] - 0s 572us/step - loss: 0.3690 - accuracy: 0.8349 - val_loss: 0.3636 - val_accuracy: 0.8301\n",
            "Epoch 74/100\n",
            "191/191 [==============================] - 0s 572us/step - loss: 0.3682 - accuracy: 0.8320 - val_loss: 0.3621 - val_accuracy: 0.8304\n",
            "Epoch 75/100\n",
            "191/191 [==============================] - 0s 561us/step - loss: 0.3669 - accuracy: 0.8344 - val_loss: 0.3629 - val_accuracy: 0.8376\n",
            "Epoch 76/100\n",
            "191/191 [==============================] - 0s 577us/step - loss: 0.3665 - accuracy: 0.8336 - val_loss: 0.3599 - val_accuracy: 0.8395\n",
            "Epoch 77/100\n",
            "191/191 [==============================] - 0s 557us/step - loss: 0.3649 - accuracy: 0.8376 - val_loss: 0.3562 - val_accuracy: 0.8405\n",
            "Epoch 78/100\n",
            "191/191 [==============================] - 0s 560us/step - loss: 0.3638 - accuracy: 0.8365 - val_loss: 0.3568 - val_accuracy: 0.8367\n",
            "Epoch 79/100\n",
            "191/191 [==============================] - 0s 564us/step - loss: 0.3620 - accuracy: 0.8376 - val_loss: 0.3559 - val_accuracy: 0.8354\n",
            "Epoch 80/100\n",
            "191/191 [==============================] - 0s 556us/step - loss: 0.3612 - accuracy: 0.8379 - val_loss: 0.3540 - val_accuracy: 0.8370\n",
            "Epoch 81/100\n",
            "191/191 [==============================] - 0s 566us/step - loss: 0.3601 - accuracy: 0.8394 - val_loss: 0.3519 - val_accuracy: 0.8408\n",
            "Epoch 82/100\n",
            "191/191 [==============================] - 0s 671us/step - loss: 0.3581 - accuracy: 0.8421 - val_loss: 0.3537 - val_accuracy: 0.8332\n",
            "Epoch 83/100\n",
            "191/191 [==============================] - 0s 572us/step - loss: 0.3575 - accuracy: 0.8397 - val_loss: 0.3490 - val_accuracy: 0.8430\n",
            "Epoch 84/100\n",
            "191/191 [==============================] - 0s 576us/step - loss: 0.3566 - accuracy: 0.8433 - val_loss: 0.3454 - val_accuracy: 0.8464\n",
            "Epoch 85/100\n",
            "191/191 [==============================] - 0s 578us/step - loss: 0.3546 - accuracy: 0.8448 - val_loss: 0.3475 - val_accuracy: 0.8427\n",
            "Epoch 86/100\n",
            "191/191 [==============================] - 0s 564us/step - loss: 0.3528 - accuracy: 0.8475 - val_loss: 0.3451 - val_accuracy: 0.8446\n",
            "Epoch 87/100\n",
            "191/191 [==============================] - 0s 566us/step - loss: 0.3524 - accuracy: 0.8446 - val_loss: 0.3438 - val_accuracy: 0.8464\n",
            "Epoch 88/100\n",
            "191/191 [==============================] - 0s 560us/step - loss: 0.3508 - accuracy: 0.8470 - val_loss: 0.3435 - val_accuracy: 0.8436\n",
            "Epoch 89/100\n",
            "191/191 [==============================] - 0s 585us/step - loss: 0.3496 - accuracy: 0.8455 - val_loss: 0.3427 - val_accuracy: 0.8480\n",
            "Epoch 90/100\n",
            "191/191 [==============================] - 0s 569us/step - loss: 0.3484 - accuracy: 0.8469 - val_loss: 0.3428 - val_accuracy: 0.8439\n",
            "Epoch 91/100\n",
            "191/191 [==============================] - 0s 568us/step - loss: 0.3483 - accuracy: 0.8481 - val_loss: 0.3384 - val_accuracy: 0.8477\n",
            "Epoch 92/100\n",
            "191/191 [==============================] - 0s 564us/step - loss: 0.3476 - accuracy: 0.8476 - val_loss: 0.3402 - val_accuracy: 0.8499\n",
            "Epoch 93/100\n",
            "191/191 [==============================] - 0s 563us/step - loss: 0.3464 - accuracy: 0.8486 - val_loss: 0.3379 - val_accuracy: 0.8477\n",
            "Epoch 94/100\n",
            "191/191 [==============================] - 0s 559us/step - loss: 0.3453 - accuracy: 0.8494 - val_loss: 0.3380 - val_accuracy: 0.8477\n",
            "Epoch 95/100\n",
            "191/191 [==============================] - 0s 563us/step - loss: 0.3450 - accuracy: 0.8501 - val_loss: 0.3345 - val_accuracy: 0.8493\n",
            "Epoch 96/100\n",
            "191/191 [==============================] - 0s 559us/step - loss: 0.3443 - accuracy: 0.8480 - val_loss: 0.3326 - val_accuracy: 0.8534\n",
            "Epoch 97/100\n",
            "191/191 [==============================] - 0s 563us/step - loss: 0.3426 - accuracy: 0.8508 - val_loss: 0.3353 - val_accuracy: 0.8496\n",
            "Epoch 98/100\n",
            "191/191 [==============================] - 0s 559us/step - loss: 0.3424 - accuracy: 0.8494 - val_loss: 0.3345 - val_accuracy: 0.8508\n",
            "Epoch 99/100\n",
            "191/191 [==============================] - 0s 558us/step - loss: 0.3410 - accuracy: 0.8503 - val_loss: 0.3314 - val_accuracy: 0.8508\n",
            "Epoch 100/100\n",
            "191/191 [==============================] - 0s 662us/step - loss: 0.3398 - accuracy: 0.8512 - val_loss: 0.3307 - val_accuracy: 0.8496\n"
          ]
        }
      ],
      "source": [
        "# Model Training and Evaluation\n",
        "\n",
        "history = ann.fit(X_train_scale, y_train, batch_size=50, epochs=100, validation_data=(X_val_scale,y_val))"
      ]
    },
    {
      "cell_type": "code",
      "execution_count": 36,
      "metadata": {
        "colab": {
          "base_uri": "https://localhost:8080/",
          "height": 472
        },
        "id": "9kj_okVn8gc8",
        "outputId": "3ac29706-0fc1-4b2c-f56e-d3f289f157e8"
      },
      "outputs": [
        {
          "data": {
            "image/png": "[encoded data removed]",
            "text/plain": [
              "<Figure size 640x480 with 1 Axes>"
            ]
          },
          "metadata": {},
          "output_type": "display_data"
        }
      ],
      "source": [
        "# Plot the training & validation loss values\n",
        "\n",
        "plt.plot(history.history['loss'])\n",
        "plt.plot(history.history['val_loss'])\n",
        "plt.title('Model Loss')\n",
        "plt.xlabel('Epoch')\n",
        "plt.ylabel('Loss')\n",
        "plt.legend(['Train', 'Validation'], loc='upper right')\n",
        "plt.show()\n"
      ]
    },
    {
      "cell_type": "code",
      "execution_count": 37,
      "metadata": {
        "colab": {
          "base_uri": "https://localhost:8080/",
          "height": 472
        },
        "id": "bDHDR26d9jqW",
        "outputId": "dc3e3783-d96f-43a6-c5c6-e09666de4a9e"
      },
      "outputs": [
        {
          "data": {
            "image/png": "[encoded data removed]",
            "text/plain": [
              "<Figure size 640x480 with 1 Axes>"
            ]
          },
          "metadata": {},
          "output_type": "display_data"
        }
      ],
      "source": [
        " # Plot training & validation accuracy values\n",
        "\n",
        "plt.plot(history.history['accuracy'])\n",
        "plt.plot(history.history['val_accuracy'])\n",
        "plt.title('Model Accuracy')\n",
        "plt.xlabel('Epoch')\n",
        "plt.ylabel('Accuracy')\n",
        "plt.legend(['Train', 'Validation'], loc='lower right')\n",
        "plt.show()"
      ]
    },
    {
      "cell_type": "code",
      "execution_count": 38,
      "metadata": {
        "colab": {
          "base_uri": "https://localhost:8080/"
        },
        "id": "IFnptPK3_9Yu",
        "outputId": "c2fc380e-50d1-4a06-d4fd-3dea2efee60e"
      },
      "outputs": [
        {
          "name": "stdout",
          "output_type": "stream",
          "text": [
            "63/63 [==============================] - 0s 502us/step - loss: 0.3995 - accuracy: 0.8415\n",
            "Test Loss: 0.399506151676178\n",
            "Test Accuracy: 0.8414999842643738\n"
          ]
        }
      ],
      "source": [
        "# Model Evaluation\n",
        "\n",
        "test_loss, test_accuracy = ann.evaluate(X_test_scale, y_test)\n",
        "print(f'Test Loss: {test_loss}')\n",
        "print(f'Test Accuracy: {test_accuracy}')"
      ]
    },
    {
      "cell_type": "code",
      "execution_count": 39,
      "metadata": {
        "colab": {
          "base_uri": "https://localhost:8080/"
        },
        "id": "8C2GCMa8MxWf",
        "outputId": "0a32bfc4-691a-4dbf-b55c-756bf303bcc4"
      },
      "outputs": [
        {
          "name": "stderr",
          "output_type": "stream",
          "text": [
            "/Users/manishrawat/anaconda3/envs/MachineLearning/lib/python3.11/site-packages/keras/src/engine/training.py:3000: UserWarning: You are saving your model as an HDF5 file via `model.save()`. This file format is considered legacy. We recommend using instead the native Keras format, e.g. `model.save('my_model.keras')`.\n",
            "  saving_api.save_model(\n"
          ]
        }
      ],
      "source": [
        "# Save the model\n",
        "\n",
        "ann.save('model.h5')"
      ]
    },
    {
      "cell_type": "markdown",
      "metadata": {
        "id": "3B2PVmJCDxCU"
      },
      "source": [
        "### Predicting the result of a single observation "
      ]
    },
    {
      "cell_type": "markdown",
      "metadata": {
        "id": "aPV0G9efD3iw"
      },
      "source": [
        "To predict if the customer with the following informations will leave the bank:\n",
        "\n",
        "1. Geography: France\n",
        "2. Credit Score: 600\n",
        "3. Gender: Male\n",
        "4. Age: 40 years old\n",
        "5. Tenure: 3 years\n",
        "6. Balance: \\$ 60000\n",
        "7. Number of Products: 2\n",
        "8. Does have a credit card? Yes\n",
        "9. Active Member: Yes\n",
        "10. Estimated Salary: \\$ 50000\n",
        "\n",
        "So, should we say goodbye to that customer? Yes/No?\n",
        "\n",
        "Note: As we have label encoded the category Geography & Gender\n",
        "1. Geography\n",
        "\n",
        "   a. Spain: 0 0 1\n",
        "\n",
        "   b. Germany: 0 1 0\n",
        "\n",
        "   c. France: 1 0 0\n",
        "\n",
        "2. Gender\n",
        "   \n",
        "   a. Male: 1\n",
        "\n",
        "   b. Female: 0"
      ]
    },
    {
      "cell_type": "code",
      "execution_count": 40,
      "metadata": {
        "colab": {
          "base_uri": "https://localhost:8080/"
        },
        "id": "mxgu2KhSEZj7",
        "outputId": "9f51aa66-13ec-4db2-9cbd-31d2e71135e5"
      },
      "outputs": [
        {
          "name": "stdout",
          "output_type": "stream",
          "text": [
            "1/1 [==============================] - 0s 24ms/step\n",
            "------------------------------------------------------------------\n",
            "Results: Customer will not Churn, this is a Happy Customer!\n",
            "------------------------------------------------------------------\n"
          ]
        }
      ],
      "source": [
        "\n",
        "predictor = ann.predict(sc.transform([[1, 0, 0, 699, 1, 34, 4, 185173.81, 2, 1, 0, 120834.48]]))\n",
        "\n",
        "# predictor = ann.predict(sc.transform([[1, 0, 0, 600, 1, 40, 3, 60000, 2, 1, 1, 50000]]))\n",
        "\n",
        "print('------------------------------------------------------------------')\n",
        "\n",
        "if predictor > 0.5:\n",
        "  print('Results: Customer will Churn!')\n",
        "else: print('Results: Customer will not Churn, this is a Happy Customer!')\n",
        "\n",
        "print('------------------------------------------------------------------')"
      ]
    },
    {
      "cell_type": "markdown",
      "metadata": {},
      "source": [
        "\n",
        "## Model Deployment on Stremlit\n",
        "\n",
        "App Link: https://checkcustomerchurn.streamlit.app/\n"
      ]
    }
  ],
  "metadata": {
    "colab": {
      "provenance": []
    },
    "kernelspec": {
      "display_name": "Python 3",
      "name": "python3"
    },
    "language_info": {
      "codemirror_mode": {
        "name": "ipython",
        "version": 3
      },
      "file_extension": ".py",
      "mimetype": "text/x-python",
      "name": "python",
      "nbconvert_exporter": "python",
      "pygments_lexer": "ipython3",
      "version": "3.11.4"
    }
  },
  "nbformat": 4,
  "nbformat_minor": 0
}
