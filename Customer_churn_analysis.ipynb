{
  "cells": [
    {
      "cell_type": "code",
      "execution_count": 1,
      "metadata": {
        "id": "mxdkYRHBrfEl"
      },
      "outputs": [],
      "source": [
        "import pandas as pd\n",
        "import numpy as np\n",
        "import matplotlib.pyplot as plt\n",
        "import tensorflow as tf\n",
        "from sklearn.model_selection import train_test_split\n",
        "from sklearn.preprocessing import StandardScaler, LabelEncoder, OneHotEncoder\n",
        "from sklearn.compose import ColumnTransformer\n",
        "from imblearn.over_sampling import SMOTE\n",
        "\n",
        "# Set random seed for TensorFlow\n",
        "tf.random.set_seed(42)\n",
        "np.random.seed(42)\n"
      ]
    },
    {
      "cell_type": "code",
      "execution_count": 2,
      "metadata": {
        "colab": {
          "base_uri": "https://localhost:8080/",
          "height": 444
        },
        "id": "8PzStgbZr9zi",
        "outputId": "78a083ff-a3c2-4645-97ae-f6b330acc661"
      },
      "outputs": [
        {
          "data": {
            "text/html": [
              "<div>\n",
              "<style scoped>\n",
              "    .dataframe tbody tr th:only-of-type {\n",
              "        vertical-align: middle;\n",
              "    }\n",
              "\n",
              "    .dataframe tbody tr th {\n",
              "        vertical-align: top;\n",
              "    }\n",
              "\n",
              "    .dataframe thead th {\n",
              "        text-align: right;\n",
              "    }\n",
              "</style>\n",
              "<table border=\"1\" class=\"dataframe\">\n",
              "  <thead>\n",
              "    <tr style=\"text-align: right;\">\n",
              "      <th></th>\n",
              "      <th>RowNumber</th>\n",
              "      <th>CustomerId</th>\n",
              "      <th>Surname</th>\n",
              "      <th>CreditScore</th>\n",
              "      <th>Geography</th>\n",
              "      <th>Gender</th>\n",
              "      <th>Age</th>\n",
              "      <th>Tenure</th>\n",
              "      <th>Balance</th>\n",
              "      <th>NumOfProducts</th>\n",
              "      <th>HasCrCard</th>\n",
              "      <th>IsActiveMember</th>\n",
              "      <th>EstimatedSalary</th>\n",
              "      <th>Exited</th>\n",
              "    </tr>\n",
              "  </thead>\n",
              "  <tbody>\n",
              "    <tr>\n",
              "      <th>0</th>\n",
              "      <td>1</td>\n",
              "      <td>15634602</td>\n",
              "      <td>Hargrave</td>\n",
              "      <td>619</td>\n",
              "      <td>France</td>\n",
              "      <td>Female</td>\n",
              "      <td>42</td>\n",
              "      <td>2</td>\n",
              "      <td>0.00</td>\n",
              "      <td>1</td>\n",
              "      <td>1</td>\n",
              "      <td>1</td>\n",
              "      <td>101348.88</td>\n",
              "      <td>1</td>\n",
              "    </tr>\n",
              "    <tr>\n",
              "      <th>1</th>\n",
              "      <td>2</td>\n",
              "      <td>15647311</td>\n",
              "      <td>Hill</td>\n",
              "      <td>608</td>\n",
              "      <td>Spain</td>\n",
              "      <td>Female</td>\n",
              "      <td>41</td>\n",
              "      <td>1</td>\n",
              "      <td>83807.86</td>\n",
              "      <td>1</td>\n",
              "      <td>0</td>\n",
              "      <td>1</td>\n",
              "      <td>112542.58</td>\n",
              "      <td>0</td>\n",
              "    </tr>\n",
              "    <tr>\n",
              "      <th>2</th>\n",
              "      <td>3</td>\n",
              "      <td>15619304</td>\n",
              "      <td>Onio</td>\n",
              "      <td>502</td>\n",
              "      <td>France</td>\n",
              "      <td>Female</td>\n",
              "      <td>42</td>\n",
              "      <td>8</td>\n",
              "      <td>159660.80</td>\n",
              "      <td>3</td>\n",
              "      <td>1</td>\n",
              "      <td>0</td>\n",
              "      <td>113931.57</td>\n",
              "      <td>1</td>\n",
              "    </tr>\n",
              "    <tr>\n",
              "      <th>3</th>\n",
              "      <td>4</td>\n",
              "      <td>15701354</td>\n",
              "      <td>Boni</td>\n",
              "      <td>699</td>\n",
              "      <td>France</td>\n",
              "      <td>Female</td>\n",
              "      <td>39</td>\n",
              "      <td>1</td>\n",
              "      <td>0.00</td>\n",
              "      <td>2</td>\n",
              "      <td>0</td>\n",
              "      <td>0</td>\n",
              "      <td>93826.63</td>\n",
              "      <td>0</td>\n",
              "    </tr>\n",
              "    <tr>\n",
              "      <th>4</th>\n",
              "      <td>5</td>\n",
              "      <td>15737888</td>\n",
              "      <td>Mitchell</td>\n",
              "      <td>850</td>\n",
              "      <td>Spain</td>\n",
              "      <td>Female</td>\n",
              "      <td>43</td>\n",
              "      <td>2</td>\n",
              "      <td>125510.82</td>\n",
              "      <td>1</td>\n",
              "      <td>1</td>\n",
              "      <td>1</td>\n",
              "      <td>79084.10</td>\n",
              "      <td>0</td>\n",
              "    </tr>\n",
              "    <tr>\n",
              "      <th>...</th>\n",
              "      <td>...</td>\n",
              "      <td>...</td>\n",
              "      <td>...</td>\n",
              "      <td>...</td>\n",
              "      <td>...</td>\n",
              "      <td>...</td>\n",
              "      <td>...</td>\n",
              "      <td>...</td>\n",
              "      <td>...</td>\n",
              "      <td>...</td>\n",
              "      <td>...</td>\n",
              "      <td>...</td>\n",
              "      <td>...</td>\n",
              "      <td>...</td>\n",
              "    </tr>\n",
              "    <tr>\n",
              "      <th>9995</th>\n",
              "      <td>9996</td>\n",
              "      <td>15606229</td>\n",
              "      <td>Obijiaku</td>\n",
              "      <td>771</td>\n",
              "      <td>France</td>\n",
              "      <td>Male</td>\n",
              "      <td>39</td>\n",
              "      <td>5</td>\n",
              "      <td>0.00</td>\n",
              "      <td>2</td>\n",
              "      <td>1</td>\n",
              "      <td>0</td>\n",
              "      <td>96270.64</td>\n",
              "      <td>0</td>\n",
              "    </tr>\n",
              "    <tr>\n",
              "      <th>9996</th>\n",
              "      <td>9997</td>\n",
              "      <td>15569892</td>\n",
              "      <td>Johnstone</td>\n",
              "      <td>516</td>\n",
              "      <td>France</td>\n",
              "      <td>Male</td>\n",
              "      <td>35</td>\n",
              "      <td>10</td>\n",
              "      <td>57369.61</td>\n",
              "      <td>1</td>\n",
              "      <td>1</td>\n",
              "      <td>1</td>\n",
              "      <td>101699.77</td>\n",
              "      <td>0</td>\n",
              "    </tr>\n",
              "    <tr>\n",
              "      <th>9997</th>\n",
              "      <td>9998</td>\n",
              "      <td>15584532</td>\n",
              "      <td>Liu</td>\n",
              "      <td>709</td>\n",
              "      <td>France</td>\n",
              "      <td>Female</td>\n",
              "      <td>36</td>\n",
              "      <td>7</td>\n",
              "      <td>0.00</td>\n",
              "      <td>1</td>\n",
              "      <td>0</td>\n",
              "      <td>1</td>\n",
              "      <td>42085.58</td>\n",
              "      <td>1</td>\n",
              "    </tr>\n",
              "    <tr>\n",
              "      <th>9998</th>\n",
              "      <td>9999</td>\n",
              "      <td>15682355</td>\n",
              "      <td>Sabbatini</td>\n",
              "      <td>772</td>\n",
              "      <td>Germany</td>\n",
              "      <td>Male</td>\n",
              "      <td>42</td>\n",
              "      <td>3</td>\n",
              "      <td>75075.31</td>\n",
              "      <td>2</td>\n",
              "      <td>1</td>\n",
              "      <td>0</td>\n",
              "      <td>92888.52</td>\n",
              "      <td>1</td>\n",
              "    </tr>\n",
              "    <tr>\n",
              "      <th>9999</th>\n",
              "      <td>10000</td>\n",
              "      <td>15628319</td>\n",
              "      <td>Walker</td>\n",
              "      <td>792</td>\n",
              "      <td>France</td>\n",
              "      <td>Female</td>\n",
              "      <td>28</td>\n",
              "      <td>4</td>\n",
              "      <td>130142.79</td>\n",
              "      <td>1</td>\n",
              "      <td>1</td>\n",
              "      <td>0</td>\n",
              "      <td>38190.78</td>\n",
              "      <td>0</td>\n",
              "    </tr>\n",
              "  </tbody>\n",
              "</table>\n",
              "<p>10000 rows × 14 columns</p>\n",
              "</div>"
            ],
            "text/plain": [
              "      RowNumber  CustomerId    Surname  CreditScore Geography  Gender  Age  \\\n",
              "0             1    15634602   Hargrave          619    France  Female   42   \n",
              "1             2    15647311       Hill          608     Spain  Female   41   \n",
              "2             3    15619304       Onio          502    France  Female   42   \n",
              "3             4    15701354       Boni          699    France  Female   39   \n",
              "4             5    15737888   Mitchell          850     Spain  Female   43   \n",
              "...         ...         ...        ...          ...       ...     ...  ...   \n",
              "9995       9996    15606229   Obijiaku          771    France    Male   39   \n",
              "9996       9997    15569892  Johnstone          516    France    Male   35   \n",
              "9997       9998    15584532        Liu          709    France  Female   36   \n",
              "9998       9999    15682355  Sabbatini          772   Germany    Male   42   \n",
              "9999      10000    15628319     Walker          792    France  Female   28   \n",
              "\n",
              "      Tenure    Balance  NumOfProducts  HasCrCard  IsActiveMember  \\\n",
              "0          2       0.00              1          1               1   \n",
              "1          1   83807.86              1          0               1   \n",
              "2          8  159660.80              3          1               0   \n",
              "3          1       0.00              2          0               0   \n",
              "4          2  125510.82              1          1               1   \n",
              "...      ...        ...            ...        ...             ...   \n",
              "9995       5       0.00              2          1               0   \n",
              "9996      10   57369.61              1          1               1   \n",
              "9997       7       0.00              1          0               1   \n",
              "9998       3   75075.31              2          1               0   \n",
              "9999       4  130142.79              1          1               0   \n",
              "\n",
              "      EstimatedSalary  Exited  \n",
              "0           101348.88       1  \n",
              "1           112542.58       0  \n",
              "2           113931.57       1  \n",
              "3            93826.63       0  \n",
              "4            79084.10       0  \n",
              "...               ...     ...  \n",
              "9995         96270.64       0  \n",
              "9996        101699.77       0  \n",
              "9997         42085.58       1  \n",
              "9998         92888.52       1  \n",
              "9999         38190.78       0  \n",
              "\n",
              "[10000 rows x 14 columns]"
            ]
          },
          "execution_count": 2,
          "metadata": {},
          "output_type": "execute_result"
        }
      ],
      "source": [
        "# Read data\n",
        "\n",
        "data = pd.read_csv('Churn_Modelling.csv')\n",
        "data"
      ]
    },
    {
      "cell_type": "code",
      "execution_count": 3,
      "metadata": {
        "colab": {
          "base_uri": "https://localhost:8080/"
        },
        "id": "WYGA20CCwSl6",
        "outputId": "677f863e-d7b9-4785-8d55-b6539420a6f8"
      },
      "outputs": [
        {
          "name": "stdout",
          "output_type": "stream",
          "text": [
            "<class 'pandas.core.frame.DataFrame'>\n",
            "RangeIndex: 10000 entries, 0 to 9999\n",
            "Data columns (total 14 columns):\n",
            " #   Column           Non-Null Count  Dtype  \n",
            "---  ------           --------------  -----  \n",
            " 0   RowNumber        10000 non-null  int64  \n",
            " 1   CustomerId       10000 non-null  int64  \n",
            " 2   Surname          10000 non-null  object \n",
            " 3   CreditScore      10000 non-null  int64  \n",
            " 4   Geography        10000 non-null  object \n",
            " 5   Gender           10000 non-null  object \n",
            " 6   Age              10000 non-null  int64  \n",
            " 7   Tenure           10000 non-null  int64  \n",
            " 8   Balance          10000 non-null  float64\n",
            " 9   NumOfProducts    10000 non-null  int64  \n",
            " 10  HasCrCard        10000 non-null  int64  \n",
            " 11  IsActiveMember   10000 non-null  int64  \n",
            " 12  EstimatedSalary  10000 non-null  float64\n",
            " 13  Exited           10000 non-null  int64  \n",
            "dtypes: float64(2), int64(9), object(3)\n",
            "memory usage: 1.1+ MB\n"
          ]
        }
      ],
      "source": [
        "data.info()"
      ]
    },
    {
      "cell_type": "code",
      "execution_count": 4,
      "metadata": {
        "colab": {
          "base_uri": "https://localhost:8080/"
        },
        "id": "qNIu7WSJxFfO",
        "outputId": "a0170c00-5a69-4830-b3e9-5eb9019567a2"
      },
      "outputs": [
        {
          "name": "stdout",
          "output_type": "stream",
          "text": [
            "<class 'pandas.core.frame.DataFrame'>\n",
            "RangeIndex: 10000 entries, 0 to 9999\n",
            "Data columns (total 14 columns):\n",
            " #   Column           Non-Null Count  Dtype  \n",
            "---  ------           --------------  -----  \n",
            " 0   RowNumber        10000 non-null  float32\n",
            " 1   CustomerId       10000 non-null  float32\n",
            " 2   Surname          10000 non-null  object \n",
            " 3   CreditScore      10000 non-null  float32\n",
            " 4   Geography        10000 non-null  object \n",
            " 5   Gender           10000 non-null  object \n",
            " 6   Age              10000 non-null  float32\n",
            " 7   Tenure           10000 non-null  float32\n",
            " 8   Balance          10000 non-null  float32\n",
            " 9   NumOfProducts    10000 non-null  float32\n",
            " 10  HasCrCard        10000 non-null  float32\n",
            " 11  IsActiveMember   10000 non-null  float32\n",
            " 12  EstimatedSalary  10000 non-null  float32\n",
            " 13  Exited           10000 non-null  float32\n",
            "dtypes: float32(11), object(3)\n",
            "memory usage: 664.2+ KB\n"
          ]
        }
      ],
      "source": [
        "# Select only numeric columns\n",
        "numeric_cols = data.select_dtypes(include='number').columns\n",
        "\n",
        "# Convert numeric columns int64, float64 to float32\n",
        "data[numeric_cols] = data[numeric_cols].astype('float32')\n",
        "data.info()"
      ]
    },
    {
      "cell_type": "code",
      "execution_count": 5,
      "metadata": {
        "colab": {
          "base_uri": "https://localhost:8080/",
          "height": 320
        },
        "id": "ApFKzbh1wOd3",
        "outputId": "365624e6-5bc5-4e73-9022-e49429d70de8"
      },
      "outputs": [
        {
          "data": {
            "text/html": [
              "<div>\n",
              "<style scoped>\n",
              "    .dataframe tbody tr th:only-of-type {\n",
              "        vertical-align: middle;\n",
              "    }\n",
              "\n",
              "    .dataframe tbody tr th {\n",
              "        vertical-align: top;\n",
              "    }\n",
              "\n",
              "    .dataframe thead th {\n",
              "        text-align: right;\n",
              "    }\n",
              "</style>\n",
              "<table border=\"1\" class=\"dataframe\">\n",
              "  <thead>\n",
              "    <tr style=\"text-align: right;\">\n",
              "      <th></th>\n",
              "      <th>RowNumber</th>\n",
              "      <th>CustomerId</th>\n",
              "      <th>CreditScore</th>\n",
              "      <th>Age</th>\n",
              "      <th>Tenure</th>\n",
              "      <th>Balance</th>\n",
              "      <th>NumOfProducts</th>\n",
              "      <th>HasCrCard</th>\n",
              "      <th>IsActiveMember</th>\n",
              "      <th>EstimatedSalary</th>\n",
              "      <th>Exited</th>\n",
              "    </tr>\n",
              "  </thead>\n",
              "  <tbody>\n",
              "    <tr>\n",
              "      <th>count</th>\n",
              "      <td>10000.000000</td>\n",
              "      <td>1.000000e+04</td>\n",
              "      <td>10000.000000</td>\n",
              "      <td>10000.000000</td>\n",
              "      <td>10000.000000</td>\n",
              "      <td>10000.000000</td>\n",
              "      <td>10000.000000</td>\n",
              "      <td>10000.00000</td>\n",
              "      <td>10000.000000</td>\n",
              "      <td>10000.000000</td>\n",
              "      <td>10000.000000</td>\n",
              "    </tr>\n",
              "    <tr>\n",
              "      <th>mean</th>\n",
              "      <td>5000.500000</td>\n",
              "      <td>1.569094e+07</td>\n",
              "      <td>650.528809</td>\n",
              "      <td>38.921799</td>\n",
              "      <td>5.012800</td>\n",
              "      <td>76485.890625</td>\n",
              "      <td>1.530200</td>\n",
              "      <td>0.70550</td>\n",
              "      <td>0.515100</td>\n",
              "      <td>100090.234375</td>\n",
              "      <td>0.203700</td>\n",
              "    </tr>\n",
              "    <tr>\n",
              "      <th>std</th>\n",
              "      <td>2886.895752</td>\n",
              "      <td>7.193619e+04</td>\n",
              "      <td>96.653297</td>\n",
              "      <td>10.487806</td>\n",
              "      <td>2.892174</td>\n",
              "      <td>62397.406250</td>\n",
              "      <td>0.581654</td>\n",
              "      <td>0.45584</td>\n",
              "      <td>0.499797</td>\n",
              "      <td>57510.492188</td>\n",
              "      <td>0.402769</td>\n",
              "    </tr>\n",
              "    <tr>\n",
              "      <th>min</th>\n",
              "      <td>1.000000</td>\n",
              "      <td>1.556570e+07</td>\n",
              "      <td>350.000000</td>\n",
              "      <td>18.000000</td>\n",
              "      <td>0.000000</td>\n",
              "      <td>0.000000</td>\n",
              "      <td>1.000000</td>\n",
              "      <td>0.00000</td>\n",
              "      <td>0.000000</td>\n",
              "      <td>11.580000</td>\n",
              "      <td>0.000000</td>\n",
              "    </tr>\n",
              "    <tr>\n",
              "      <th>25%</th>\n",
              "      <td>2500.750000</td>\n",
              "      <td>1.562853e+07</td>\n",
              "      <td>584.000000</td>\n",
              "      <td>32.000000</td>\n",
              "      <td>3.000000</td>\n",
              "      <td>0.000000</td>\n",
              "      <td>1.000000</td>\n",
              "      <td>0.00000</td>\n",
              "      <td>0.000000</td>\n",
              "      <td>51002.109375</td>\n",
              "      <td>0.000000</td>\n",
              "    </tr>\n",
              "    <tr>\n",
              "      <th>50%</th>\n",
              "      <td>5000.500000</td>\n",
              "      <td>1.569074e+07</td>\n",
              "      <td>652.000000</td>\n",
              "      <td>37.000000</td>\n",
              "      <td>5.000000</td>\n",
              "      <td>97198.539062</td>\n",
              "      <td>1.000000</td>\n",
              "      <td>1.00000</td>\n",
              "      <td>1.000000</td>\n",
              "      <td>100193.914062</td>\n",
              "      <td>0.000000</td>\n",
              "    </tr>\n",
              "    <tr>\n",
              "      <th>75%</th>\n",
              "      <td>7500.250000</td>\n",
              "      <td>1.575323e+07</td>\n",
              "      <td>718.000000</td>\n",
              "      <td>44.000000</td>\n",
              "      <td>7.000000</td>\n",
              "      <td>127644.238281</td>\n",
              "      <td>2.000000</td>\n",
              "      <td>1.00000</td>\n",
              "      <td>1.000000</td>\n",
              "      <td>149388.253906</td>\n",
              "      <td>0.000000</td>\n",
              "    </tr>\n",
              "    <tr>\n",
              "      <th>max</th>\n",
              "      <td>10000.000000</td>\n",
              "      <td>1.581569e+07</td>\n",
              "      <td>850.000000</td>\n",
              "      <td>92.000000</td>\n",
              "      <td>10.000000</td>\n",
              "      <td>250898.093750</td>\n",
              "      <td>4.000000</td>\n",
              "      <td>1.00000</td>\n",
              "      <td>1.000000</td>\n",
              "      <td>199992.484375</td>\n",
              "      <td>1.000000</td>\n",
              "    </tr>\n",
              "  </tbody>\n",
              "</table>\n",
              "</div>"
            ],
            "text/plain": [
              "          RowNumber    CustomerId   CreditScore           Age        Tenure  \\\n",
              "count  10000.000000  1.000000e+04  10000.000000  10000.000000  10000.000000   \n",
              "mean    5000.500000  1.569094e+07    650.528809     38.921799      5.012800   \n",
              "std     2886.895752  7.193619e+04     96.653297     10.487806      2.892174   \n",
              "min        1.000000  1.556570e+07    350.000000     18.000000      0.000000   \n",
              "25%     2500.750000  1.562853e+07    584.000000     32.000000      3.000000   \n",
              "50%     5000.500000  1.569074e+07    652.000000     37.000000      5.000000   \n",
              "75%     7500.250000  1.575323e+07    718.000000     44.000000      7.000000   \n",
              "max    10000.000000  1.581569e+07    850.000000     92.000000     10.000000   \n",
              "\n",
              "             Balance  NumOfProducts    HasCrCard  IsActiveMember  \\\n",
              "count   10000.000000   10000.000000  10000.00000    10000.000000   \n",
              "mean    76485.890625       1.530200      0.70550        0.515100   \n",
              "std     62397.406250       0.581654      0.45584        0.499797   \n",
              "min         0.000000       1.000000      0.00000        0.000000   \n",
              "25%         0.000000       1.000000      0.00000        0.000000   \n",
              "50%     97198.539062       1.000000      1.00000        1.000000   \n",
              "75%    127644.238281       2.000000      1.00000        1.000000   \n",
              "max    250898.093750       4.000000      1.00000        1.000000   \n",
              "\n",
              "       EstimatedSalary        Exited  \n",
              "count     10000.000000  10000.000000  \n",
              "mean     100090.234375      0.203700  \n",
              "std       57510.492188      0.402769  \n",
              "min          11.580000      0.000000  \n",
              "25%       51002.109375      0.000000  \n",
              "50%      100193.914062      0.000000  \n",
              "75%      149388.253906      0.000000  \n",
              "max      199992.484375      1.000000  "
            ]
          },
          "execution_count": 5,
          "metadata": {},
          "output_type": "execute_result"
        }
      ],
      "source": [
        "data.describe()"
      ]
    },
    {
      "cell_type": "code",
      "execution_count": 6,
      "metadata": {
        "colab": {
          "base_uri": "https://localhost:8080/",
          "height": 175
        },
        "id": "h9uFabUryIlw",
        "outputId": "f0930dc6-fa60-46ab-f1ed-778b86e0956b"
      },
      "outputs": [
        {
          "data": {
            "text/html": [
              "<div>\n",
              "<style scoped>\n",
              "    .dataframe tbody tr th:only-of-type {\n",
              "        vertical-align: middle;\n",
              "    }\n",
              "\n",
              "    .dataframe tbody tr th {\n",
              "        vertical-align: top;\n",
              "    }\n",
              "\n",
              "    .dataframe thead th {\n",
              "        text-align: right;\n",
              "    }\n",
              "</style>\n",
              "<table border=\"1\" class=\"dataframe\">\n",
              "  <thead>\n",
              "    <tr style=\"text-align: right;\">\n",
              "      <th></th>\n",
              "      <th>Surname</th>\n",
              "      <th>Geography</th>\n",
              "      <th>Gender</th>\n",
              "    </tr>\n",
              "  </thead>\n",
              "  <tbody>\n",
              "    <tr>\n",
              "      <th>count</th>\n",
              "      <td>10000</td>\n",
              "      <td>10000</td>\n",
              "      <td>10000</td>\n",
              "    </tr>\n",
              "    <tr>\n",
              "      <th>unique</th>\n",
              "      <td>2932</td>\n",
              "      <td>3</td>\n",
              "      <td>2</td>\n",
              "    </tr>\n",
              "    <tr>\n",
              "      <th>top</th>\n",
              "      <td>Smith</td>\n",
              "      <td>France</td>\n",
              "      <td>Male</td>\n",
              "    </tr>\n",
              "    <tr>\n",
              "      <th>freq</th>\n",
              "      <td>32</td>\n",
              "      <td>5014</td>\n",
              "      <td>5457</td>\n",
              "    </tr>\n",
              "  </tbody>\n",
              "</table>\n",
              "</div>"
            ],
            "text/plain": [
              "       Surname Geography Gender\n",
              "count    10000     10000  10000\n",
              "unique    2932         3      2\n",
              "top      Smith    France   Male\n",
              "freq        32      5014   5457"
            ]
          },
          "execution_count": 6,
          "metadata": {},
          "output_type": "execute_result"
        }
      ],
      "source": [
        "data.describe(include=['object'])"
      ]
    },
    {
      "cell_type": "code",
      "execution_count": 7,
      "metadata": {
        "colab": {
          "base_uri": "https://localhost:8080/"
        },
        "id": "PvFoloJGsKQb",
        "outputId": "3bf5519b-677c-4ac6-ec82-ebc3244038fd"
      },
      "outputs": [
        {
          "data": {
            "text/plain": [
              "array([[619.0, 'France', 'Female', ..., 1.0, 1.0, 101348.8828125],\n",
              "       [608.0, 'Spain', 'Female', ..., 0.0, 1.0, 112542.578125],\n",
              "       [502.0, 'France', 'Female', ..., 1.0, 0.0, 113931.5703125],\n",
              "       ...,\n",
              "       [709.0, 'France', 'Female', ..., 0.0, 1.0, 42085.578125],\n",
              "       [772.0, 'Germany', 'Male', ..., 1.0, 0.0, 92888.5234375],\n",
              "       [792.0, 'France', 'Female', ..., 1.0, 0.0, 38190.78125]],\n",
              "      dtype=object)"
            ]
          },
          "execution_count": 7,
          "metadata": {},
          "output_type": "execute_result"
        }
      ],
      "source": [
        "X = data.iloc[ : , 3:-1].values\n",
        "X"
      ]
    },
    {
      "cell_type": "code",
      "execution_count": 8,
      "metadata": {
        "colab": {
          "base_uri": "https://localhost:8080/"
        },
        "id": "q4ceIHODsgSq",
        "outputId": "41e3c91b-0b41-4058-adf9-6eec0cc2bc90"
      },
      "outputs": [
        {
          "data": {
            "text/plain": [
              "array([[1.],\n",
              "       [0.],\n",
              "       [1.],\n",
              "       ...,\n",
              "       [1.],\n",
              "       [1.],\n",
              "       [0.]], dtype=float32)"
            ]
          },
          "execution_count": 8,
          "metadata": {},
          "output_type": "execute_result"
        }
      ],
      "source": [
        "y = data.iloc[: , -1].values\n",
        "y = y.reshape(len(y),1)\n",
        "y"
      ]
    },
    {
      "cell_type": "code",
      "execution_count": 9,
      "metadata": {
        "id": "ojexseUKyk8H"
      },
      "outputs": [],
      "source": [
        "le = LabelEncoder()\n",
        "\n",
        "X[:, 2] = le.fit_transform(X[:, 2])"
      ]
    },
    {
      "cell_type": "code",
      "execution_count": 10,
      "metadata": {
        "colab": {
          "base_uri": "https://localhost:8080/"
        },
        "id": "CqyOqdlf1d8Y",
        "outputId": "aa5b64bc-7962-4650-dcf7-7040bd467aa3"
      },
      "outputs": [
        {
          "data": {
            "text/plain": [
              "array([[1.0, 0.0, 0.0, ..., 1.0, 1.0, 101348.8828125],\n",
              "       [0.0, 0.0, 1.0, ..., 0.0, 1.0, 112542.578125],\n",
              "       [1.0, 0.0, 0.0, ..., 1.0, 0.0, 113931.5703125],\n",
              "       ...,\n",
              "       [1.0, 0.0, 0.0, ..., 0.0, 1.0, 42085.578125],\n",
              "       [0.0, 1.0, 0.0, ..., 1.0, 0.0, 92888.5234375],\n",
              "       [1.0, 0.0, 0.0, ..., 1.0, 0.0, 38190.78125]], dtype=object)"
            ]
          },
          "execution_count": 10,
          "metadata": {},
          "output_type": "execute_result"
        }
      ],
      "source": [
        "from sklearn.compose import ColumnTransformer\n",
        "\n",
        "transformer = [('enco_country', OneHotEncoder(), [1])]\n",
        "\n",
        "ct = ColumnTransformer(transformers = transformer, remainder = 'passthrough')\n",
        "\n",
        "X_encoded = ct.fit_transform(X)\n",
        "\n",
        "X_encoded"
      ]
    },
    {
      "cell_type": "code",
      "execution_count": 11,
      "metadata": {
        "id": "N8PrsfUp49v0"
      },
      "outputs": [],
      "source": [
        "X_train0, X_test, y_train0, y_test = train_test_split(X_encoded, y, test_size=0.2, random_state=42)"
      ]
    },
    {
      "cell_type": "code",
      "execution_count": 12,
      "metadata": {
        "id": "xNzEB2zwjnnN"
      },
      "outputs": [],
      "source": [
        "# Apply SMOTE to balance the classes\n",
        "\n",
        "from imblearn.over_sampling import SMOTE\n",
        "\n",
        "smote = SMOTE(random_state=42)\n",
        "X_resampled, y_resampled = smote.fit_resample(X_train0, y_train0)\n",
        "\n",
        "X_train, X_val, y_train, y_val = train_test_split(X_resampled, y_resampled, test_size=0.25, random_state=42)"
      ]
    },
    {
      "cell_type": "code",
      "execution_count": 13,
      "metadata": {
        "id": "dU5AwBvH5lvh"
      },
      "outputs": [],
      "source": [
        "sc = StandardScaler()\n",
        "\n",
        "X_train_scale = sc.fit_transform(X_train)\n",
        "X_val_scale = sc.transform(X_val)\n",
        "X_test_scale = sc.transform(X_test)\n"
      ]
    },
    {
      "cell_type": "code",
      "execution_count": 14,
      "metadata": {
        "id": "ba6HuT8J6GeB"
      },
      "outputs": [],
      "source": [
        "ann = tf.keras.models.Sequential()\n",
        "ann.add(tf.keras.layers.Dense(units = 6, activation = 'relu'))\n",
        "ann.add(tf.keras.layers.Dense(units = 6, activation = 'relu'))\n",
        "ann.add(tf.keras.layers.Dense(units = 1, activation = 'sigmoid'))\n",
        "\n",
        "ann.compile(optimizer='adam', loss='binary_crossentropy', metrics=['accuracy'])"
      ]
    },
    {
      "cell_type": "code",
      "execution_count": 15,
      "metadata": {
        "colab": {
          "base_uri": "https://localhost:8080/"
        },
        "id": "_x2NY1ji7J9i",
        "outputId": "63a857c3-0f29-4ab7-a8d8-4f85d2acc962"
      },
      "outputs": [
        {
          "name": "stdout",
          "output_type": "stream",
          "text": [
            "Epoch 1/100\n",
            "191/191 [==============================] - 0s 1ms/step - loss: 0.6548 - accuracy: 0.6136 - val_loss: 0.6110 - val_accuracy: 0.6797\n",
            "Epoch 2/100\n",
            "191/191 [==============================] - 0s 595us/step - loss: 0.6047 - accuracy: 0.6757 - val_loss: 0.5775 - val_accuracy: 0.6982\n",
            "Epoch 3/100\n",
            "191/191 [==============================] - 0s 597us/step - loss: 0.5807 - accuracy: 0.7003 - val_loss: 0.5537 - val_accuracy: 0.7162\n",
            "Epoch 4/100\n",
            "191/191 [==============================] - 0s 578us/step - loss: 0.5645 - accuracy: 0.7162 - val_loss: 0.5389 - val_accuracy: 0.7360\n",
            "Epoch 5/100\n",
            "191/191 [==============================] - 0s 594us/step - loss: 0.5533 - accuracy: 0.7267 - val_loss: 0.5292 - val_accuracy: 0.7379\n",
            "Epoch 6/100\n",
            "191/191 [==============================] - 0s 592us/step - loss: 0.5450 - accuracy: 0.7315 - val_loss: 0.5224 - val_accuracy: 0.7445\n",
            "Epoch 7/100\n",
            "191/191 [==============================] - 0s 590us/step - loss: 0.5385 - accuracy: 0.7345 - val_loss: 0.5175 - val_accuracy: 0.7454\n",
            "Epoch 8/100\n",
            "191/191 [==============================] - 0s 594us/step - loss: 0.5332 - accuracy: 0.7373 - val_loss: 0.5139 - val_accuracy: 0.7458\n",
            "Epoch 9/100\n",
            "191/191 [==============================] - 0s 585us/step - loss: 0.5278 - accuracy: 0.7411 - val_loss: 0.5097 - val_accuracy: 0.7480\n",
            "Epoch 10/100\n",
            "191/191 [==============================] - 0s 582us/step - loss: 0.5230 - accuracy: 0.7429 - val_loss: 0.5054 - val_accuracy: 0.7539\n",
            "Epoch 11/100\n",
            "191/191 [==============================] - 0s 589us/step - loss: 0.5179 - accuracy: 0.7445 - val_loss: 0.5026 - val_accuracy: 0.7552\n",
            "Epoch 12/100\n",
            "191/191 [==============================] - 0s 588us/step - loss: 0.5134 - accuracy: 0.7520 - val_loss: 0.4968 - val_accuracy: 0.7593\n",
            "Epoch 13/100\n",
            "191/191 [==============================] - 0s 594us/step - loss: 0.5082 - accuracy: 0.7556 - val_loss: 0.4916 - val_accuracy: 0.7637\n",
            "Epoch 14/100\n",
            "191/191 [==============================] - 0s 586us/step - loss: 0.5031 - accuracy: 0.7603 - val_loss: 0.4861 - val_accuracy: 0.7690\n",
            "Epoch 15/100\n",
            "191/191 [==============================] - 0s 596us/step - loss: 0.4970 - accuracy: 0.7613 - val_loss: 0.4807 - val_accuracy: 0.7731\n",
            "Epoch 16/100\n",
            "191/191 [==============================] - 0s 585us/step - loss: 0.4894 - accuracy: 0.7644 - val_loss: 0.4705 - val_accuracy: 0.7778\n",
            "Epoch 17/100\n",
            "191/191 [==============================] - 0s 590us/step - loss: 0.4802 - accuracy: 0.7727 - val_loss: 0.4628 - val_accuracy: 0.7863\n",
            "Epoch 18/100\n",
            "191/191 [==============================] - 0s 590us/step - loss: 0.4705 - accuracy: 0.7775 - val_loss: 0.4541 - val_accuracy: 0.7823\n",
            "Epoch 19/100\n",
            "191/191 [==============================] - 0s 651us/step - loss: 0.4617 - accuracy: 0.7826 - val_loss: 0.4435 - val_accuracy: 0.7892\n",
            "Epoch 20/100\n",
            "191/191 [==============================] - 0s 595us/step - loss: 0.4534 - accuracy: 0.7867 - val_loss: 0.4398 - val_accuracy: 0.7958\n",
            "Epoch 21/100\n",
            "191/191 [==============================] - 0s 585us/step - loss: 0.4470 - accuracy: 0.7920 - val_loss: 0.4308 - val_accuracy: 0.7996\n",
            "Epoch 22/100\n",
            "191/191 [==============================] - 0s 589us/step - loss: 0.4409 - accuracy: 0.7946 - val_loss: 0.4256 - val_accuracy: 0.8021\n",
            "Epoch 23/100\n",
            "191/191 [==============================] - 0s 583us/step - loss: 0.4364 - accuracy: 0.7969 - val_loss: 0.4210 - val_accuracy: 0.8043\n",
            "Epoch 24/100\n",
            "191/191 [==============================] - 0s 581us/step - loss: 0.4320 - accuracy: 0.8021 - val_loss: 0.4173 - val_accuracy: 0.8071\n",
            "Epoch 25/100\n",
            "191/191 [==============================] - 0s 590us/step - loss: 0.4287 - accuracy: 0.8022 - val_loss: 0.4146 - val_accuracy: 0.8112\n",
            "Epoch 26/100\n",
            "191/191 [==============================] - 0s 596us/step - loss: 0.4258 - accuracy: 0.8045 - val_loss: 0.4110 - val_accuracy: 0.8128\n",
            "Epoch 27/100\n",
            "191/191 [==============================] - 0s 584us/step - loss: 0.4224 - accuracy: 0.8052 - val_loss: 0.4081 - val_accuracy: 0.8131\n",
            "Epoch 28/100\n",
            "191/191 [==============================] - 0s 590us/step - loss: 0.4199 - accuracy: 0.8074 - val_loss: 0.4054 - val_accuracy: 0.8156\n",
            "Epoch 29/100\n",
            "191/191 [==============================] - 0s 595us/step - loss: 0.4165 - accuracy: 0.8092 - val_loss: 0.4052 - val_accuracy: 0.8096\n",
            "Epoch 30/100\n",
            "191/191 [==============================] - 0s 604us/step - loss: 0.4141 - accuracy: 0.8089 - val_loss: 0.4019 - val_accuracy: 0.8159\n",
            "Epoch 31/100\n",
            "191/191 [==============================] - 0s 604us/step - loss: 0.4123 - accuracy: 0.8088 - val_loss: 0.3992 - val_accuracy: 0.8159\n",
            "Epoch 32/100\n",
            "191/191 [==============================] - 0s 603us/step - loss: 0.4099 - accuracy: 0.8115 - val_loss: 0.3966 - val_accuracy: 0.8134\n",
            "Epoch 33/100\n",
            "191/191 [==============================] - 0s 604us/step - loss: 0.4076 - accuracy: 0.8117 - val_loss: 0.3935 - val_accuracy: 0.8194\n",
            "Epoch 34/100\n",
            "191/191 [==============================] - 0s 594us/step - loss: 0.4047 - accuracy: 0.8150 - val_loss: 0.3932 - val_accuracy: 0.8172\n",
            "Epoch 35/100\n",
            "191/191 [==============================] - 0s 589us/step - loss: 0.4025 - accuracy: 0.8146 - val_loss: 0.3895 - val_accuracy: 0.8181\n",
            "Epoch 36/100\n",
            "191/191 [==============================] - 0s 663us/step - loss: 0.4005 - accuracy: 0.8160 - val_loss: 0.3877 - val_accuracy: 0.8197\n",
            "Epoch 37/100\n",
            "191/191 [==============================] - 0s 604us/step - loss: 0.3979 - accuracy: 0.8185 - val_loss: 0.3852 - val_accuracy: 0.8216\n",
            "Epoch 38/100\n",
            "191/191 [==============================] - 0s 603us/step - loss: 0.3957 - accuracy: 0.8168 - val_loss: 0.3828 - val_accuracy: 0.8250\n",
            "Epoch 39/100\n",
            "191/191 [==============================] - 0s 591us/step - loss: 0.3932 - accuracy: 0.8197 - val_loss: 0.3833 - val_accuracy: 0.8228\n",
            "Epoch 40/100\n",
            "191/191 [==============================] - 0s 600us/step - loss: 0.3914 - accuracy: 0.8172 - val_loss: 0.3798 - val_accuracy: 0.8222\n",
            "Epoch 41/100\n",
            "191/191 [==============================] - 0s 604us/step - loss: 0.3899 - accuracy: 0.8204 - val_loss: 0.3781 - val_accuracy: 0.8263\n",
            "Epoch 42/100\n",
            "191/191 [==============================] - 0s 596us/step - loss: 0.3875 - accuracy: 0.8233 - val_loss: 0.3774 - val_accuracy: 0.8260\n",
            "Epoch 43/100\n",
            "191/191 [==============================] - 0s 586us/step - loss: 0.3859 - accuracy: 0.8213 - val_loss: 0.3759 - val_accuracy: 0.8238\n",
            "Epoch 44/100\n",
            "191/191 [==============================] - 0s 587us/step - loss: 0.3846 - accuracy: 0.8235 - val_loss: 0.3742 - val_accuracy: 0.8225\n",
            "Epoch 45/100\n",
            "191/191 [==============================] - 0s 597us/step - loss: 0.3824 - accuracy: 0.8246 - val_loss: 0.3727 - val_accuracy: 0.8250\n",
            "Epoch 46/100\n",
            "191/191 [==============================] - 0s 610us/step - loss: 0.3813 - accuracy: 0.8255 - val_loss: 0.3725 - val_accuracy: 0.8213\n",
            "Epoch 47/100\n",
            "191/191 [==============================] - 0s 588us/step - loss: 0.3796 - accuracy: 0.8270 - val_loss: 0.3708 - val_accuracy: 0.8291\n",
            "Epoch 48/100\n",
            "191/191 [==============================] - 0s 583us/step - loss: 0.3780 - accuracy: 0.8266 - val_loss: 0.3695 - val_accuracy: 0.8260\n",
            "Epoch 49/100\n",
            "191/191 [==============================] - 0s 595us/step - loss: 0.3767 - accuracy: 0.8266 - val_loss: 0.3696 - val_accuracy: 0.8263\n",
            "Epoch 50/100\n",
            "191/191 [==============================] - 0s 599us/step - loss: 0.3761 - accuracy: 0.8298 - val_loss: 0.3676 - val_accuracy: 0.8263\n",
            "Epoch 51/100\n",
            "191/191 [==============================] - 0s 589us/step - loss: 0.3736 - accuracy: 0.8310 - val_loss: 0.3660 - val_accuracy: 0.8272\n",
            "Epoch 52/100\n",
            "191/191 [==============================] - 0s 586us/step - loss: 0.3727 - accuracy: 0.8320 - val_loss: 0.3656 - val_accuracy: 0.8266\n",
            "Epoch 53/100\n",
            "191/191 [==============================] - 0s 659us/step - loss: 0.3722 - accuracy: 0.8310 - val_loss: 0.3651 - val_accuracy: 0.8254\n",
            "Epoch 54/100\n",
            "191/191 [==============================] - 0s 594us/step - loss: 0.3709 - accuracy: 0.8321 - val_loss: 0.3641 - val_accuracy: 0.8285\n",
            "Epoch 55/100\n",
            "191/191 [==============================] - 0s 594us/step - loss: 0.3696 - accuracy: 0.8333 - val_loss: 0.3633 - val_accuracy: 0.8266\n",
            "Epoch 56/100\n",
            "191/191 [==============================] - 0s 574us/step - loss: 0.3691 - accuracy: 0.8327 - val_loss: 0.3617 - val_accuracy: 0.8295\n",
            "Epoch 57/100\n",
            "191/191 [==============================] - 0s 585us/step - loss: 0.3681 - accuracy: 0.8334 - val_loss: 0.3624 - val_accuracy: 0.8304\n",
            "Epoch 58/100\n",
            "191/191 [==============================] - 0s 584us/step - loss: 0.3674 - accuracy: 0.8357 - val_loss: 0.3646 - val_accuracy: 0.8282\n",
            "Epoch 59/100\n",
            "191/191 [==============================] - 0s 594us/step - loss: 0.3668 - accuracy: 0.8353 - val_loss: 0.3595 - val_accuracy: 0.8310\n",
            "Epoch 60/100\n",
            "191/191 [==============================] - 0s 579us/step - loss: 0.3655 - accuracy: 0.8379 - val_loss: 0.3591 - val_accuracy: 0.8307\n",
            "Epoch 61/100\n",
            "191/191 [==============================] - 0s 590us/step - loss: 0.3648 - accuracy: 0.8355 - val_loss: 0.3587 - val_accuracy: 0.8298\n",
            "Epoch 62/100\n",
            "191/191 [==============================] - 0s 586us/step - loss: 0.3651 - accuracy: 0.8351 - val_loss: 0.3575 - val_accuracy: 0.8326\n",
            "Epoch 63/100\n",
            "191/191 [==============================] - 0s 592us/step - loss: 0.3641 - accuracy: 0.8372 - val_loss: 0.3579 - val_accuracy: 0.8332\n",
            "Epoch 64/100\n",
            "191/191 [==============================] - 0s 595us/step - loss: 0.3634 - accuracy: 0.8362 - val_loss: 0.3566 - val_accuracy: 0.8329\n",
            "Epoch 65/100\n",
            "191/191 [==============================] - 0s 585us/step - loss: 0.3627 - accuracy: 0.8386 - val_loss: 0.3624 - val_accuracy: 0.8313\n",
            "Epoch 66/100\n",
            "191/191 [==============================] - 0s 579us/step - loss: 0.3622 - accuracy: 0.8359 - val_loss: 0.3554 - val_accuracy: 0.8345\n",
            "Epoch 67/100\n",
            "191/191 [==============================] - 0s 587us/step - loss: 0.3614 - accuracy: 0.8369 - val_loss: 0.3554 - val_accuracy: 0.8332\n",
            "Epoch 68/100\n",
            "191/191 [==============================] - 0s 591us/step - loss: 0.3607 - accuracy: 0.8388 - val_loss: 0.3550 - val_accuracy: 0.8361\n",
            "Epoch 69/100\n",
            "191/191 [==============================] - 0s 669us/step - loss: 0.3597 - accuracy: 0.8382 - val_loss: 0.3581 - val_accuracy: 0.8323\n",
            "Epoch 70/100\n",
            "191/191 [==============================] - 0s 600us/step - loss: 0.3605 - accuracy: 0.8378 - val_loss: 0.3541 - val_accuracy: 0.8326\n",
            "Epoch 71/100\n",
            "191/191 [==============================] - 0s 585us/step - loss: 0.3601 - accuracy: 0.8381 - val_loss: 0.3541 - val_accuracy: 0.8348\n",
            "Epoch 72/100\n",
            "191/191 [==============================] - 0s 584us/step - loss: 0.3593 - accuracy: 0.8395 - val_loss: 0.3550 - val_accuracy: 0.8367\n",
            "Epoch 73/100\n",
            "191/191 [==============================] - 0s 589us/step - loss: 0.3585 - accuracy: 0.8382 - val_loss: 0.3554 - val_accuracy: 0.8379\n",
            "Epoch 74/100\n",
            "191/191 [==============================] - 0s 587us/step - loss: 0.3580 - accuracy: 0.8377 - val_loss: 0.3538 - val_accuracy: 0.8373\n",
            "Epoch 75/100\n",
            "191/191 [==============================] - 0s 602us/step - loss: 0.3575 - accuracy: 0.8394 - val_loss: 0.3559 - val_accuracy: 0.8323\n",
            "Epoch 76/100\n",
            "191/191 [==============================] - 0s 593us/step - loss: 0.3577 - accuracy: 0.8368 - val_loss: 0.3550 - val_accuracy: 0.8354\n",
            "Epoch 77/100\n",
            "191/191 [==============================] - 0s 576us/step - loss: 0.3569 - accuracy: 0.8388 - val_loss: 0.3506 - val_accuracy: 0.8383\n",
            "Epoch 78/100\n",
            "191/191 [==============================] - 0s 591us/step - loss: 0.3569 - accuracy: 0.8377 - val_loss: 0.3520 - val_accuracy: 0.8383\n",
            "Epoch 79/100\n",
            "191/191 [==============================] - 0s 588us/step - loss: 0.3559 - accuracy: 0.8373 - val_loss: 0.3520 - val_accuracy: 0.8379\n",
            "Epoch 80/100\n",
            "191/191 [==============================] - 0s 592us/step - loss: 0.3557 - accuracy: 0.8373 - val_loss: 0.3517 - val_accuracy: 0.8411\n",
            "Epoch 81/100\n",
            "191/191 [==============================] - 0s 592us/step - loss: 0.3562 - accuracy: 0.8375 - val_loss: 0.3519 - val_accuracy: 0.8351\n",
            "Epoch 82/100\n",
            "191/191 [==============================] - 0s 584us/step - loss: 0.3552 - accuracy: 0.8403 - val_loss: 0.3540 - val_accuracy: 0.8389\n",
            "Epoch 83/100\n",
            "191/191 [==============================] - 0s 586us/step - loss: 0.3555 - accuracy: 0.8390 - val_loss: 0.3523 - val_accuracy: 0.8345\n",
            "Epoch 84/100\n",
            "191/191 [==============================] - 0s 683us/step - loss: 0.3553 - accuracy: 0.8407 - val_loss: 0.3490 - val_accuracy: 0.8392\n",
            "Epoch 85/100\n",
            "191/191 [==============================] - 0s 635us/step - loss: 0.3547 - accuracy: 0.8382 - val_loss: 0.3511 - val_accuracy: 0.8379\n",
            "Epoch 86/100\n",
            "191/191 [==============================] - 0s 604us/step - loss: 0.3537 - accuracy: 0.8414 - val_loss: 0.3519 - val_accuracy: 0.8386\n",
            "Epoch 87/100\n",
            "191/191 [==============================] - 0s 601us/step - loss: 0.3549 - accuracy: 0.8393 - val_loss: 0.3490 - val_accuracy: 0.8386\n",
            "Epoch 88/100\n",
            "191/191 [==============================] - 0s 637us/step - loss: 0.3536 - accuracy: 0.8410 - val_loss: 0.3499 - val_accuracy: 0.8392\n",
            "Epoch 89/100\n",
            "191/191 [==============================] - 0s 617us/step - loss: 0.3533 - accuracy: 0.8415 - val_loss: 0.3485 - val_accuracy: 0.8405\n",
            "Epoch 90/100\n",
            "191/191 [==============================] - 0s 594us/step - loss: 0.3535 - accuracy: 0.8385 - val_loss: 0.3512 - val_accuracy: 0.8408\n",
            "Epoch 91/100\n",
            "191/191 [==============================] - 0s 593us/step - loss: 0.3542 - accuracy: 0.8411 - val_loss: 0.3482 - val_accuracy: 0.8402\n",
            "Epoch 92/100\n",
            "191/191 [==============================] - 0s 590us/step - loss: 0.3532 - accuracy: 0.8392 - val_loss: 0.3505 - val_accuracy: 0.8389\n",
            "Epoch 93/100\n",
            "191/191 [==============================] - 0s 588us/step - loss: 0.3531 - accuracy: 0.8407 - val_loss: 0.3485 - val_accuracy: 0.8389\n",
            "Epoch 94/100\n",
            "191/191 [==============================] - 0s 590us/step - loss: 0.3520 - accuracy: 0.8417 - val_loss: 0.3506 - val_accuracy: 0.8402\n",
            "Epoch 95/100\n",
            "191/191 [==============================] - 0s 575us/step - loss: 0.3525 - accuracy: 0.8408 - val_loss: 0.3467 - val_accuracy: 0.8383\n",
            "Epoch 96/100\n",
            "191/191 [==============================] - 0s 592us/step - loss: 0.3529 - accuracy: 0.8392 - val_loss: 0.3465 - val_accuracy: 0.8427\n",
            "Epoch 97/100\n",
            "191/191 [==============================] - 0s 686us/step - loss: 0.3524 - accuracy: 0.8408 - val_loss: 0.3480 - val_accuracy: 0.8379\n",
            "Epoch 98/100\n",
            "191/191 [==============================] - 0s 616us/step - loss: 0.3521 - accuracy: 0.8418 - val_loss: 0.3468 - val_accuracy: 0.8417\n",
            "Epoch 99/100\n",
            "191/191 [==============================] - 0s 604us/step - loss: 0.3512 - accuracy: 0.8404 - val_loss: 0.3452 - val_accuracy: 0.8408\n",
            "Epoch 100/100\n",
            "191/191 [==============================] - 0s 605us/step - loss: 0.3503 - accuracy: 0.8389 - val_loss: 0.3452 - val_accuracy: 0.8433\n"
          ]
        }
      ],
      "source": [
        "history = ann.fit(X_train_scale, y_train, batch_size=50, epochs=100, validation_data=(X_val_scale,y_val))"
      ]
    },
    {
      "cell_type": "code",
      "execution_count": 16,
      "metadata": {
        "colab": {
          "base_uri": "https://localhost:8080/",
          "height": 472
        },
        "id": "9kj_okVn8gc8",
        "outputId": "3ac29706-0fc1-4b2c-f56e-d3f289f157e8"
      },
      "outputs": [
        {
          "data": {
            "image/png": "[encoded data removed]",
            "text/plain": [
              "<Figure size 640x480 with 1 Axes>"
            ]
          },
          "metadata": {},
          "output_type": "display_data"
        }
      ],
      "source": [
        "# Plot training & validation loss values\n",
        "plt.plot(history.history['loss'])\n",
        "plt.plot(history.history['val_loss'])\n",
        "plt.title('Model Loss')\n",
        "plt.xlabel('Epoch')\n",
        "plt.ylabel('Loss')\n",
        "plt.legend(['Train', 'Validation'], loc='upper right')\n",
        "plt.show()\n"
      ]
    },
    {
      "cell_type": "code",
      "execution_count": 17,
      "metadata": {
        "colab": {
          "base_uri": "https://localhost:8080/",
          "height": 472
        },
        "id": "bDHDR26d9jqW",
        "outputId": "dc3e3783-d96f-43a6-c5c6-e09666de4a9e"
      },
      "outputs": [
        {
          "data": {
            "image/png": "[encoded data removed]",
            "text/plain": [
              "<Figure size 640x480 with 1 Axes>"
            ]
          },
          "metadata": {},
          "output_type": "display_data"
        }
      ],
      "source": [
        " # Plot training & validation accuracy values\n",
        "plt.plot(history.history['accuracy'])\n",
        "plt.plot(history.history['val_accuracy'])\n",
        "plt.title('Model Accuracy')\n",
        "plt.xlabel('Epoch')\n",
        "plt.ylabel('Accuracy')\n",
        "plt.legend(['Train', 'Validation'], loc='lower right')\n",
        "plt.show()"
      ]
    },
    {
      "cell_type": "code",
      "execution_count": 18,
      "metadata": {
        "colab": {
          "base_uri": "https://localhost:8080/"
        },
        "id": "IFnptPK3_9Yu",
        "outputId": "c2fc380e-50d1-4a06-d4fd-3dea2efee60e"
      },
      "outputs": [
        {
          "name": "stdout",
          "output_type": "stream",
          "text": [
            "63/63 [==============================] - 0s 505us/step - loss: 0.3935 - accuracy: 0.8405\n",
            "Test Loss: 0.3935045003890991\n",
            "Test Accuracy: 0.840499997138977\n"
          ]
        }
      ],
      "source": [
        "# Assuming 'X_test_scale' and 'y_test' are your test data and labels\n",
        "test_loss, test_accuracy = ann.evaluate(X_test_scale, y_test)\n",
        "print(f'Test Loss: {test_loss}')\n",
        "print(f'Test Accuracy: {test_accuracy}')\n"
      ]
    },
    {
      "cell_type": "code",
      "execution_count": 19,
      "metadata": {
        "colab": {
          "base_uri": "https://localhost:8080/"
        },
        "id": "8C2GCMa8MxWf",
        "outputId": "0a32bfc4-691a-4dbf-b55c-756bf303bcc4"
      },
      "outputs": [
        {
          "name": "stderr",
          "output_type": "stream",
          "text": [
            "/Users/manishrawat/anaconda3/envs/MachineLearning/lib/python3.11/site-packages/keras/src/engine/training.py:3000: UserWarning: You are saving your model as an HDF5 file via `model.save()`. This file format is considered legacy. We recommend using instead the native Keras format, e.g. `model.save('my_model.keras')`.\n",
            "  saving_api.save_model(\n"
          ]
        }
      ],
      "source": [
        "ann.save('churn_prediction_model.h5')"
      ]
    },
    {
      "cell_type": "markdown",
      "metadata": {
        "id": "3B2PVmJCDxCU"
      },
      "source": [
        "### Predicting the result of a single observation"
      ]
    },
    {
      "cell_type": "markdown",
      "metadata": {
        "id": "aPV0G9efD3iw"
      },
      "source": [
        "To predict if the customer with the following informations will leave the bank:\n",
        "\n",
        "1. Geography: France\n",
        "2. Credit Score: 600\n",
        "3. Gender: Male\n",
        "4. Age: 40 years old\n",
        "5. Tenure: 3 years\n",
        "6. Balance: \\$ 60000\n",
        "7. Number of Products: 2\n",
        "8. Does have a credit card? Yes\n",
        "9. Active Member: Yes\n",
        "10. Estimated Salary: \\$ 50000\n",
        "\n",
        "So, should we say goodbye to that customer? Yes/No?\n",
        "\n",
        "Note: As we have label encoded the category Geography & Gender\n",
        "1. Geography\n",
        "\n",
        "   a. Spain: 0 0 1\n",
        "\n",
        "   b. Germany: 0 1 0\n",
        "\n",
        "   c. France: 1 0 0\n",
        "\n",
        "2. Gender\n",
        "   \n",
        "   a. Male: 1\n",
        "\n",
        "   b. Female: 0"
      ]
    },
    {
      "cell_type": "code",
      "execution_count": 20,
      "metadata": {
        "colab": {
          "base_uri": "https://localhost:8080/"
        },
        "id": "mxgu2KhSEZj7",
        "outputId": "9f51aa66-13ec-4db2-9cbd-31d2e71135e5"
      },
      "outputs": [
        {
          "name": "stdout",
          "output_type": "stream",
          "text": [
            "1/1 [==============================] - 0s 40ms/step\n",
            "------------------------------------------------------------------\n",
            "Results: Customer will not Churn, this is a Happy Customer!\n",
            "------------------------------------------------------------------\n"
          ]
        }
      ],
      "source": [
        "\n",
        "predictor = ann.predict(sc.transform([[1, 0, 0, 699, 1, 34, 4, 185173.81, 2, 1, 0, 120834.48]]))\n",
        "\n",
        "# predictor = ann.predict(sc.transform([[1, 0, 0, 600, 1, 40, 3, 60000, 2, 1, 1, 50000]]))\n",
        "\n",
        "print('------------------------------------------------------------------')\n",
        "\n",
        "if predictor > 0.5:\n",
        "  print('Results: Customer will Churn!')\n",
        "else: print('Results: Customer will not Churn, this is a Happy Customer!')\n",
        "\n",
        "print('------------------------------------------------------------------')"
      ]
    }
  ],
  "metadata": {
    "colab": {
      "provenance": []
    },
    "kernelspec": {
      "display_name": "Python 3",
      "name": "python3"
    },
    "language_info": {
      "codemirror_mode": {
        "name": "ipython",
        "version": 3
      },
      "file_extension": ".py",
      "mimetype": "text/x-python",
      "name": "python",
      "nbconvert_exporter": "python",
      "pygments_lexer": "ipython3",
      "version": "3.11.4"
    }
  },
  "nbformat": 4,
  "nbformat_minor": 0
}
